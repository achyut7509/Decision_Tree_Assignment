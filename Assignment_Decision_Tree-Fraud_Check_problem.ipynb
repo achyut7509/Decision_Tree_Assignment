{
 "cells": [
  {
   "cell_type": "markdown",
   "id": "754bb09e",
   "metadata": {},
   "source": [
    "# Decision Tree - Fraud Check Problem\n",
    "\n",
    "## ------------------------------------------------------------------------------------------------------------------------\n",
    "\n",
    "## Problem Statement :- Use decision trees to prepare a model on fraud data .\n",
    "## Treating those who have taxable_income <= 30000 as \"Risky\" and others are \"Good\"."
   ]
  },
  {
   "cell_type": "markdown",
   "id": "44e7894b",
   "metadata": {},
   "source": [
    "## 1.Importing Libraries :"
   ]
  },
  {
   "cell_type": "code",
   "execution_count": 66,
   "id": "39f012ab",
   "metadata": {},
   "outputs": [],
   "source": [
    "import pandas as pd\n",
    "import matplotlib.pyplot as plt\n",
    "\n",
    "import warnings\n",
    "warnings.filterwarnings('ignore')"
   ]
  },
  {
   "cell_type": "markdown",
   "id": "46f5cd0b",
   "metadata": {},
   "source": [
    "## 2. Importing Dataset :"
   ]
  },
  {
   "cell_type": "code",
   "execution_count": 67,
   "id": "547cca6d",
   "metadata": {},
   "outputs": [
    {
     "data": {
      "text/html": [
       "<div>\n",
       "<style scoped>\n",
       "    .dataframe tbody tr th:only-of-type {\n",
       "        vertical-align: middle;\n",
       "    }\n",
       "\n",
       "    .dataframe tbody tr th {\n",
       "        vertical-align: top;\n",
       "    }\n",
       "\n",
       "    .dataframe thead th {\n",
       "        text-align: right;\n",
       "    }\n",
       "</style>\n",
       "<table border=\"1\" class=\"dataframe\">\n",
       "  <thead>\n",
       "    <tr style=\"text-align: right;\">\n",
       "      <th></th>\n",
       "      <th>Undergrad</th>\n",
       "      <th>Marital.Status</th>\n",
       "      <th>Taxable.Income</th>\n",
       "      <th>City.Population</th>\n",
       "      <th>Work.Experience</th>\n",
       "      <th>Urban</th>\n",
       "    </tr>\n",
       "  </thead>\n",
       "  <tbody>\n",
       "    <tr>\n",
       "      <th>0</th>\n",
       "      <td>NO</td>\n",
       "      <td>Single</td>\n",
       "      <td>68833</td>\n",
       "      <td>50047</td>\n",
       "      <td>10</td>\n",
       "      <td>YES</td>\n",
       "    </tr>\n",
       "    <tr>\n",
       "      <th>1</th>\n",
       "      <td>YES</td>\n",
       "      <td>Divorced</td>\n",
       "      <td>33700</td>\n",
       "      <td>134075</td>\n",
       "      <td>18</td>\n",
       "      <td>YES</td>\n",
       "    </tr>\n",
       "    <tr>\n",
       "      <th>2</th>\n",
       "      <td>NO</td>\n",
       "      <td>Married</td>\n",
       "      <td>36925</td>\n",
       "      <td>160205</td>\n",
       "      <td>30</td>\n",
       "      <td>YES</td>\n",
       "    </tr>\n",
       "    <tr>\n",
       "      <th>3</th>\n",
       "      <td>YES</td>\n",
       "      <td>Single</td>\n",
       "      <td>50190</td>\n",
       "      <td>193264</td>\n",
       "      <td>15</td>\n",
       "      <td>YES</td>\n",
       "    </tr>\n",
       "    <tr>\n",
       "      <th>4</th>\n",
       "      <td>NO</td>\n",
       "      <td>Married</td>\n",
       "      <td>81002</td>\n",
       "      <td>27533</td>\n",
       "      <td>28</td>\n",
       "      <td>NO</td>\n",
       "    </tr>\n",
       "    <tr>\n",
       "      <th>...</th>\n",
       "      <td>...</td>\n",
       "      <td>...</td>\n",
       "      <td>...</td>\n",
       "      <td>...</td>\n",
       "      <td>...</td>\n",
       "      <td>...</td>\n",
       "    </tr>\n",
       "    <tr>\n",
       "      <th>595</th>\n",
       "      <td>YES</td>\n",
       "      <td>Divorced</td>\n",
       "      <td>76340</td>\n",
       "      <td>39492</td>\n",
       "      <td>7</td>\n",
       "      <td>YES</td>\n",
       "    </tr>\n",
       "    <tr>\n",
       "      <th>596</th>\n",
       "      <td>YES</td>\n",
       "      <td>Divorced</td>\n",
       "      <td>69967</td>\n",
       "      <td>55369</td>\n",
       "      <td>2</td>\n",
       "      <td>YES</td>\n",
       "    </tr>\n",
       "    <tr>\n",
       "      <th>597</th>\n",
       "      <td>NO</td>\n",
       "      <td>Divorced</td>\n",
       "      <td>47334</td>\n",
       "      <td>154058</td>\n",
       "      <td>0</td>\n",
       "      <td>YES</td>\n",
       "    </tr>\n",
       "    <tr>\n",
       "      <th>598</th>\n",
       "      <td>YES</td>\n",
       "      <td>Married</td>\n",
       "      <td>98592</td>\n",
       "      <td>180083</td>\n",
       "      <td>17</td>\n",
       "      <td>NO</td>\n",
       "    </tr>\n",
       "    <tr>\n",
       "      <th>599</th>\n",
       "      <td>NO</td>\n",
       "      <td>Divorced</td>\n",
       "      <td>96519</td>\n",
       "      <td>158137</td>\n",
       "      <td>16</td>\n",
       "      <td>NO</td>\n",
       "    </tr>\n",
       "  </tbody>\n",
       "</table>\n",
       "<p>600 rows × 6 columns</p>\n",
       "</div>"
      ],
      "text/plain": [
       "    Undergrad Marital.Status  Taxable.Income  City.Population  \\\n",
       "0          NO         Single           68833            50047   \n",
       "1         YES       Divorced           33700           134075   \n",
       "2          NO        Married           36925           160205   \n",
       "3         YES         Single           50190           193264   \n",
       "4          NO        Married           81002            27533   \n",
       "..        ...            ...             ...              ...   \n",
       "595       YES       Divorced           76340            39492   \n",
       "596       YES       Divorced           69967            55369   \n",
       "597        NO       Divorced           47334           154058   \n",
       "598       YES        Married           98592           180083   \n",
       "599        NO       Divorced           96519           158137   \n",
       "\n",
       "     Work.Experience Urban  \n",
       "0                 10   YES  \n",
       "1                 18   YES  \n",
       "2                 30   YES  \n",
       "3                 15   YES  \n",
       "4                 28    NO  \n",
       "..               ...   ...  \n",
       "595                7   YES  \n",
       "596                2   YES  \n",
       "597                0   YES  \n",
       "598               17    NO  \n",
       "599               16    NO  \n",
       "\n",
       "[600 rows x 6 columns]"
      ]
     },
     "execution_count": 67,
     "metadata": {},
     "output_type": "execute_result"
    }
   ],
   "source": [
    "fraud_data = pd.read_csv('Fraud_check.csv',sep=',')\n",
    "fraud_data"
   ]
  },
  {
   "cell_type": "markdown",
   "id": "88dc25ba",
   "metadata": {},
   "source": [
    "## 3. Data Understanding :"
   ]
  },
  {
   "cell_type": "markdown",
   "id": "77fb36c7",
   "metadata": {},
   "source": [
    "### 3.1 Data Description :\n",
    "\n",
    "* **Undergrad** : person is under graduated or not\n",
    "* **Marital.Status** : marital status of a person\n",
    "* **Taxable.Income** : Taxable income is the amount of how much tax an individual owes to the government \n",
    "* **Work Experience** : Work experience of an individual person\n",
    "* **Urban** : Whether that person belongs to urban area or not"
   ]
  },
  {
   "cell_type": "markdown",
   "id": "4dc9e261",
   "metadata": {},
   "source": [
    "### 3.2 Initial Analysis :"
   ]
  },
  {
   "cell_type": "code",
   "execution_count": 68,
   "id": "ae449b1b",
   "metadata": {},
   "outputs": [
    {
     "data": {
      "text/plain": [
       "(600, 6)"
      ]
     },
     "execution_count": 68,
     "metadata": {},
     "output_type": "execute_result"
    }
   ],
   "source": [
    "fraud_data.shape"
   ]
  },
  {
   "cell_type": "code",
   "execution_count": 69,
   "id": "af7cb6a3",
   "metadata": {},
   "outputs": [
    {
     "data": {
      "text/plain": [
       "Undergrad          0\n",
       "Marital.Status     0\n",
       "Taxable.Income     0\n",
       "City.Population    0\n",
       "Work.Experience    0\n",
       "Urban              0\n",
       "dtype: int64"
      ]
     },
     "execution_count": 69,
     "metadata": {},
     "output_type": "execute_result"
    }
   ],
   "source": [
    "fraud_data.isna().sum()"
   ]
  },
  {
   "cell_type": "code",
   "execution_count": 70,
   "id": "c31b610c",
   "metadata": {},
   "outputs": [
    {
     "data": {
      "text/plain": [
       "Undergrad          object\n",
       "Marital.Status     object\n",
       "Taxable.Income      int64\n",
       "City.Population     int64\n",
       "Work.Experience     int64\n",
       "Urban              object\n",
       "dtype: object"
      ]
     },
     "execution_count": 70,
     "metadata": {},
     "output_type": "execute_result"
    }
   ],
   "source": [
    "fraud_data.dtypes"
   ]
  },
  {
   "cell_type": "markdown",
   "id": "cedd5847",
   "metadata": {},
   "source": [
    "## 4. Data Preparation :"
   ]
  },
  {
   "cell_type": "code",
   "execution_count": 71,
   "id": "3073b110",
   "metadata": {},
   "outputs": [
    {
     "data": {
      "text/html": [
       "<div>\n",
       "<style scoped>\n",
       "    .dataframe tbody tr th:only-of-type {\n",
       "        vertical-align: middle;\n",
       "    }\n",
       "\n",
       "    .dataframe tbody tr th {\n",
       "        vertical-align: top;\n",
       "    }\n",
       "\n",
       "    .dataframe thead th {\n",
       "        text-align: right;\n",
       "    }\n",
       "</style>\n",
       "<table border=\"1\" class=\"dataframe\">\n",
       "  <thead>\n",
       "    <tr style=\"text-align: right;\">\n",
       "      <th></th>\n",
       "      <th>undergrad</th>\n",
       "      <th>marital_status</th>\n",
       "      <th>taxable_income</th>\n",
       "      <th>city_population</th>\n",
       "      <th>work_experience</th>\n",
       "      <th>urban</th>\n",
       "    </tr>\n",
       "  </thead>\n",
       "  <tbody>\n",
       "    <tr>\n",
       "      <th>0</th>\n",
       "      <td>NO</td>\n",
       "      <td>Single</td>\n",
       "      <td>68833</td>\n",
       "      <td>50047</td>\n",
       "      <td>10</td>\n",
       "      <td>YES</td>\n",
       "    </tr>\n",
       "    <tr>\n",
       "      <th>1</th>\n",
       "      <td>YES</td>\n",
       "      <td>Divorced</td>\n",
       "      <td>33700</td>\n",
       "      <td>134075</td>\n",
       "      <td>18</td>\n",
       "      <td>YES</td>\n",
       "    </tr>\n",
       "    <tr>\n",
       "      <th>2</th>\n",
       "      <td>NO</td>\n",
       "      <td>Married</td>\n",
       "      <td>36925</td>\n",
       "      <td>160205</td>\n",
       "      <td>30</td>\n",
       "      <td>YES</td>\n",
       "    </tr>\n",
       "    <tr>\n",
       "      <th>3</th>\n",
       "      <td>YES</td>\n",
       "      <td>Single</td>\n",
       "      <td>50190</td>\n",
       "      <td>193264</td>\n",
       "      <td>15</td>\n",
       "      <td>YES</td>\n",
       "    </tr>\n",
       "    <tr>\n",
       "      <th>4</th>\n",
       "      <td>NO</td>\n",
       "      <td>Married</td>\n",
       "      <td>81002</td>\n",
       "      <td>27533</td>\n",
       "      <td>28</td>\n",
       "      <td>NO</td>\n",
       "    </tr>\n",
       "  </tbody>\n",
       "</table>\n",
       "</div>"
      ],
      "text/plain": [
       "  undergrad marital_status  taxable_income  city_population  work_experience  \\\n",
       "0        NO         Single           68833            50047               10   \n",
       "1       YES       Divorced           33700           134075               18   \n",
       "2        NO        Married           36925           160205               30   \n",
       "3       YES         Single           50190           193264               15   \n",
       "4        NO        Married           81002            27533               28   \n",
       "\n",
       "  urban  \n",
       "0   YES  \n",
       "1   YES  \n",
       "2   YES  \n",
       "3   YES  \n",
       "4    NO  "
      ]
     },
     "execution_count": 71,
     "metadata": {},
     "output_type": "execute_result"
    }
   ],
   "source": [
    "# Renaming columns :\n",
    "\n",
    "fraud_data.columns = ['undergrad','marital_status','taxable_income','city_population','work_experience','urban']\n",
    "fraud_data.head()"
   ]
  },
  {
   "cell_type": "code",
   "execution_count": 72,
   "id": "1a015773",
   "metadata": {},
   "outputs": [
    {
     "data": {
      "text/html": [
       "<div>\n",
       "<style scoped>\n",
       "    .dataframe tbody tr th:only-of-type {\n",
       "        vertical-align: middle;\n",
       "    }\n",
       "\n",
       "    .dataframe tbody tr th {\n",
       "        vertical-align: top;\n",
       "    }\n",
       "\n",
       "    .dataframe thead th {\n",
       "        text-align: right;\n",
       "    }\n",
       "</style>\n",
       "<table border=\"1\" class=\"dataframe\">\n",
       "  <thead>\n",
       "    <tr style=\"text-align: right;\">\n",
       "      <th></th>\n",
       "      <th>undergrad</th>\n",
       "      <th>marital_status</th>\n",
       "      <th>taxable_income</th>\n",
       "      <th>city_population</th>\n",
       "      <th>work_experience</th>\n",
       "      <th>urban</th>\n",
       "      <th>target</th>\n",
       "    </tr>\n",
       "  </thead>\n",
       "  <tbody>\n",
       "    <tr>\n",
       "      <th>0</th>\n",
       "      <td>NO</td>\n",
       "      <td>Single</td>\n",
       "      <td>68833</td>\n",
       "      <td>50047</td>\n",
       "      <td>10</td>\n",
       "      <td>YES</td>\n",
       "      <td>N/A</td>\n",
       "    </tr>\n",
       "    <tr>\n",
       "      <th>1</th>\n",
       "      <td>YES</td>\n",
       "      <td>Divorced</td>\n",
       "      <td>33700</td>\n",
       "      <td>134075</td>\n",
       "      <td>18</td>\n",
       "      <td>YES</td>\n",
       "      <td>N/A</td>\n",
       "    </tr>\n",
       "    <tr>\n",
       "      <th>2</th>\n",
       "      <td>NO</td>\n",
       "      <td>Married</td>\n",
       "      <td>36925</td>\n",
       "      <td>160205</td>\n",
       "      <td>30</td>\n",
       "      <td>YES</td>\n",
       "      <td>N/A</td>\n",
       "    </tr>\n",
       "    <tr>\n",
       "      <th>3</th>\n",
       "      <td>YES</td>\n",
       "      <td>Single</td>\n",
       "      <td>50190</td>\n",
       "      <td>193264</td>\n",
       "      <td>15</td>\n",
       "      <td>YES</td>\n",
       "      <td>N/A</td>\n",
       "    </tr>\n",
       "    <tr>\n",
       "      <th>4</th>\n",
       "      <td>NO</td>\n",
       "      <td>Married</td>\n",
       "      <td>81002</td>\n",
       "      <td>27533</td>\n",
       "      <td>28</td>\n",
       "      <td>NO</td>\n",
       "      <td>N/A</td>\n",
       "    </tr>\n",
       "  </tbody>\n",
       "</table>\n",
       "</div>"
      ],
      "text/plain": [
       "  undergrad marital_status  taxable_income  city_population  work_experience  \\\n",
       "0        NO         Single           68833            50047               10   \n",
       "1       YES       Divorced           33700           134075               18   \n",
       "2        NO        Married           36925           160205               30   \n",
       "3       YES         Single           50190           193264               15   \n",
       "4        NO        Married           81002            27533               28   \n",
       "\n",
       "  urban target  \n",
       "0   YES    N/A  \n",
       "1   YES    N/A  \n",
       "2   YES    N/A  \n",
       "3   YES    N/A  \n",
       "4    NO    N/A  "
      ]
     },
     "execution_count": 72,
     "metadata": {},
     "output_type": "execute_result"
    }
   ],
   "source": [
    "# Creating a target column\n",
    "fraud_data['target'] = 'N/A'\n",
    "fraud_data.head()"
   ]
  },
  {
   "cell_type": "code",
   "execution_count": 73,
   "id": "f0e309a3",
   "metadata": {},
   "outputs": [],
   "source": [
    "# Above Mentioned that the target variable is based on taxable income paid.\n",
    "# As in the statement it is mentioned that those who have taxable_income <= 30000 as \"Risky\" and others are \"Good\".\n",
    "# So the conditions are taxable_income > 30000 - \"Good\" and taxable_income <=30000 - \"Risky\"\n",
    "\n",
    "for i in range(0,fraud_data.shape[0]):\n",
    "    if fraud_data.taxable_income[i] > 30000:\n",
    "        fraud_data.target[i] = 'Good'\n",
    "    else:\n",
    "        fraud_data.target[i] = 'Risky'"
   ]
  },
  {
   "cell_type": "code",
   "execution_count": 74,
   "id": "5b957625",
   "metadata": {},
   "outputs": [
    {
     "data": {
      "text/html": [
       "<div>\n",
       "<style scoped>\n",
       "    .dataframe tbody tr th:only-of-type {\n",
       "        vertical-align: middle;\n",
       "    }\n",
       "\n",
       "    .dataframe tbody tr th {\n",
       "        vertical-align: top;\n",
       "    }\n",
       "\n",
       "    .dataframe thead th {\n",
       "        text-align: right;\n",
       "    }\n",
       "</style>\n",
       "<table border=\"1\" class=\"dataframe\">\n",
       "  <thead>\n",
       "    <tr style=\"text-align: right;\">\n",
       "      <th></th>\n",
       "      <th>undergrad</th>\n",
       "      <th>marital_status</th>\n",
       "      <th>taxable_income</th>\n",
       "      <th>city_population</th>\n",
       "      <th>work_experience</th>\n",
       "      <th>urban</th>\n",
       "      <th>target</th>\n",
       "    </tr>\n",
       "  </thead>\n",
       "  <tbody>\n",
       "    <tr>\n",
       "      <th>0</th>\n",
       "      <td>NO</td>\n",
       "      <td>Single</td>\n",
       "      <td>68833</td>\n",
       "      <td>50047</td>\n",
       "      <td>10</td>\n",
       "      <td>YES</td>\n",
       "      <td>Good</td>\n",
       "    </tr>\n",
       "    <tr>\n",
       "      <th>1</th>\n",
       "      <td>YES</td>\n",
       "      <td>Divorced</td>\n",
       "      <td>33700</td>\n",
       "      <td>134075</td>\n",
       "      <td>18</td>\n",
       "      <td>YES</td>\n",
       "      <td>Good</td>\n",
       "    </tr>\n",
       "    <tr>\n",
       "      <th>2</th>\n",
       "      <td>NO</td>\n",
       "      <td>Married</td>\n",
       "      <td>36925</td>\n",
       "      <td>160205</td>\n",
       "      <td>30</td>\n",
       "      <td>YES</td>\n",
       "      <td>Good</td>\n",
       "    </tr>\n",
       "    <tr>\n",
       "      <th>3</th>\n",
       "      <td>YES</td>\n",
       "      <td>Single</td>\n",
       "      <td>50190</td>\n",
       "      <td>193264</td>\n",
       "      <td>15</td>\n",
       "      <td>YES</td>\n",
       "      <td>Good</td>\n",
       "    </tr>\n",
       "    <tr>\n",
       "      <th>4</th>\n",
       "      <td>NO</td>\n",
       "      <td>Married</td>\n",
       "      <td>81002</td>\n",
       "      <td>27533</td>\n",
       "      <td>28</td>\n",
       "      <td>NO</td>\n",
       "      <td>Good</td>\n",
       "    </tr>\n",
       "    <tr>\n",
       "      <th>5</th>\n",
       "      <td>NO</td>\n",
       "      <td>Divorced</td>\n",
       "      <td>33329</td>\n",
       "      <td>116382</td>\n",
       "      <td>0</td>\n",
       "      <td>NO</td>\n",
       "      <td>Good</td>\n",
       "    </tr>\n",
       "    <tr>\n",
       "      <th>6</th>\n",
       "      <td>NO</td>\n",
       "      <td>Divorced</td>\n",
       "      <td>83357</td>\n",
       "      <td>80890</td>\n",
       "      <td>8</td>\n",
       "      <td>YES</td>\n",
       "      <td>Good</td>\n",
       "    </tr>\n",
       "    <tr>\n",
       "      <th>7</th>\n",
       "      <td>YES</td>\n",
       "      <td>Single</td>\n",
       "      <td>62774</td>\n",
       "      <td>131253</td>\n",
       "      <td>3</td>\n",
       "      <td>YES</td>\n",
       "      <td>Good</td>\n",
       "    </tr>\n",
       "    <tr>\n",
       "      <th>8</th>\n",
       "      <td>NO</td>\n",
       "      <td>Single</td>\n",
       "      <td>83519</td>\n",
       "      <td>102481</td>\n",
       "      <td>12</td>\n",
       "      <td>YES</td>\n",
       "      <td>Good</td>\n",
       "    </tr>\n",
       "    <tr>\n",
       "      <th>9</th>\n",
       "      <td>YES</td>\n",
       "      <td>Divorced</td>\n",
       "      <td>98152</td>\n",
       "      <td>155482</td>\n",
       "      <td>4</td>\n",
       "      <td>YES</td>\n",
       "      <td>Good</td>\n",
       "    </tr>\n",
       "    <tr>\n",
       "      <th>10</th>\n",
       "      <td>NO</td>\n",
       "      <td>Single</td>\n",
       "      <td>29732</td>\n",
       "      <td>102602</td>\n",
       "      <td>19</td>\n",
       "      <td>YES</td>\n",
       "      <td>Risky</td>\n",
       "    </tr>\n",
       "    <tr>\n",
       "      <th>11</th>\n",
       "      <td>NO</td>\n",
       "      <td>Single</td>\n",
       "      <td>61063</td>\n",
       "      <td>94875</td>\n",
       "      <td>6</td>\n",
       "      <td>YES</td>\n",
       "      <td>Good</td>\n",
       "    </tr>\n",
       "    <tr>\n",
       "      <th>12</th>\n",
       "      <td>NO</td>\n",
       "      <td>Divorced</td>\n",
       "      <td>11794</td>\n",
       "      <td>148033</td>\n",
       "      <td>14</td>\n",
       "      <td>YES</td>\n",
       "      <td>Risky</td>\n",
       "    </tr>\n",
       "    <tr>\n",
       "      <th>13</th>\n",
       "      <td>NO</td>\n",
       "      <td>Married</td>\n",
       "      <td>61830</td>\n",
       "      <td>86649</td>\n",
       "      <td>16</td>\n",
       "      <td>YES</td>\n",
       "      <td>Good</td>\n",
       "    </tr>\n",
       "    <tr>\n",
       "      <th>14</th>\n",
       "      <td>NO</td>\n",
       "      <td>Married</td>\n",
       "      <td>64070</td>\n",
       "      <td>57529</td>\n",
       "      <td>13</td>\n",
       "      <td>YES</td>\n",
       "      <td>Good</td>\n",
       "    </tr>\n",
       "    <tr>\n",
       "      <th>15</th>\n",
       "      <td>NO</td>\n",
       "      <td>Divorced</td>\n",
       "      <td>69869</td>\n",
       "      <td>107764</td>\n",
       "      <td>29</td>\n",
       "      <td>NO</td>\n",
       "      <td>Good</td>\n",
       "    </tr>\n",
       "    <tr>\n",
       "      <th>16</th>\n",
       "      <td>YES</td>\n",
       "      <td>Divorced</td>\n",
       "      <td>24987</td>\n",
       "      <td>34551</td>\n",
       "      <td>29</td>\n",
       "      <td>NO</td>\n",
       "      <td>Risky</td>\n",
       "    </tr>\n",
       "    <tr>\n",
       "      <th>17</th>\n",
       "      <td>YES</td>\n",
       "      <td>Married</td>\n",
       "      <td>39476</td>\n",
       "      <td>57194</td>\n",
       "      <td>25</td>\n",
       "      <td>NO</td>\n",
       "      <td>Good</td>\n",
       "    </tr>\n",
       "    <tr>\n",
       "      <th>18</th>\n",
       "      <td>YES</td>\n",
       "      <td>Divorced</td>\n",
       "      <td>97957</td>\n",
       "      <td>59269</td>\n",
       "      <td>6</td>\n",
       "      <td>NO</td>\n",
       "      <td>Good</td>\n",
       "    </tr>\n",
       "    <tr>\n",
       "      <th>19</th>\n",
       "      <td>NO</td>\n",
       "      <td>Single</td>\n",
       "      <td>10987</td>\n",
       "      <td>126953</td>\n",
       "      <td>30</td>\n",
       "      <td>YES</td>\n",
       "      <td>Risky</td>\n",
       "    </tr>\n",
       "  </tbody>\n",
       "</table>\n",
       "</div>"
      ],
      "text/plain": [
       "   undergrad marital_status  taxable_income  city_population  work_experience  \\\n",
       "0         NO         Single           68833            50047               10   \n",
       "1        YES       Divorced           33700           134075               18   \n",
       "2         NO        Married           36925           160205               30   \n",
       "3        YES         Single           50190           193264               15   \n",
       "4         NO        Married           81002            27533               28   \n",
       "5         NO       Divorced           33329           116382                0   \n",
       "6         NO       Divorced           83357            80890                8   \n",
       "7        YES         Single           62774           131253                3   \n",
       "8         NO         Single           83519           102481               12   \n",
       "9        YES       Divorced           98152           155482                4   \n",
       "10        NO         Single           29732           102602               19   \n",
       "11        NO         Single           61063            94875                6   \n",
       "12        NO       Divorced           11794           148033               14   \n",
       "13        NO        Married           61830            86649               16   \n",
       "14        NO        Married           64070            57529               13   \n",
       "15        NO       Divorced           69869           107764               29   \n",
       "16       YES       Divorced           24987            34551               29   \n",
       "17       YES        Married           39476            57194               25   \n",
       "18       YES       Divorced           97957            59269                6   \n",
       "19        NO         Single           10987           126953               30   \n",
       "\n",
       "   urban target  \n",
       "0    YES   Good  \n",
       "1    YES   Good  \n",
       "2    YES   Good  \n",
       "3    YES   Good  \n",
       "4     NO   Good  \n",
       "5     NO   Good  \n",
       "6    YES   Good  \n",
       "7    YES   Good  \n",
       "8    YES   Good  \n",
       "9    YES   Good  \n",
       "10   YES  Risky  \n",
       "11   YES   Good  \n",
       "12   YES  Risky  \n",
       "13   YES   Good  \n",
       "14   YES   Good  \n",
       "15    NO   Good  \n",
       "16    NO  Risky  \n",
       "17    NO   Good  \n",
       "18    NO   Good  \n",
       "19   YES  Risky  "
      ]
     },
     "execution_count": 74,
     "metadata": {},
     "output_type": "execute_result"
    }
   ],
   "source": [
    "fraud_data.head(20)"
   ]
  },
  {
   "cell_type": "code",
   "execution_count": 75,
   "id": "3bbf40e4",
   "metadata": {},
   "outputs": [
    {
     "data": {
      "text/plain": [
       "undergrad          object\n",
       "marital_status     object\n",
       "taxable_income      int64\n",
       "city_population     int64\n",
       "work_experience     int64\n",
       "urban              object\n",
       "target             object\n",
       "dtype: object"
      ]
     },
     "execution_count": 75,
     "metadata": {},
     "output_type": "execute_result"
    }
   ],
   "source": [
    "fraud_data.dtypes"
   ]
  },
  {
   "cell_type": "markdown",
   "id": "7e6666f9",
   "metadata": {},
   "source": [
    "## 5. Data Pre-Processing :"
   ]
  },
  {
   "cell_type": "markdown",
   "id": "4e7a14a5",
   "metadata": {},
   "source": [
    "### 5.1 Data Transformation :"
   ]
  },
  {
   "cell_type": "code",
   "execution_count": 76,
   "id": "d7219fc0",
   "metadata": {},
   "outputs": [
    {
     "data": {
      "text/html": [
       "<div>\n",
       "<style scoped>\n",
       "    .dataframe tbody tr th:only-of-type {\n",
       "        vertical-align: middle;\n",
       "    }\n",
       "\n",
       "    .dataframe tbody tr th {\n",
       "        vertical-align: top;\n",
       "    }\n",
       "\n",
       "    .dataframe thead th {\n",
       "        text-align: right;\n",
       "    }\n",
       "</style>\n",
       "<table border=\"1\" class=\"dataframe\">\n",
       "  <thead>\n",
       "    <tr style=\"text-align: right;\">\n",
       "      <th></th>\n",
       "      <th>undergrad</th>\n",
       "      <th>marital_status</th>\n",
       "      <th>taxable_income</th>\n",
       "      <th>city_population</th>\n",
       "      <th>work_experience</th>\n",
       "      <th>urban</th>\n",
       "      <th>target</th>\n",
       "    </tr>\n",
       "  </thead>\n",
       "  <tbody>\n",
       "    <tr>\n",
       "      <th>0</th>\n",
       "      <td>NO</td>\n",
       "      <td>Single</td>\n",
       "      <td>68833</td>\n",
       "      <td>50047</td>\n",
       "      <td>10</td>\n",
       "      <td>YES</td>\n",
       "      <td>Good</td>\n",
       "    </tr>\n",
       "    <tr>\n",
       "      <th>1</th>\n",
       "      <td>YES</td>\n",
       "      <td>Divorced</td>\n",
       "      <td>33700</td>\n",
       "      <td>134075</td>\n",
       "      <td>18</td>\n",
       "      <td>YES</td>\n",
       "      <td>Good</td>\n",
       "    </tr>\n",
       "    <tr>\n",
       "      <th>2</th>\n",
       "      <td>NO</td>\n",
       "      <td>Married</td>\n",
       "      <td>36925</td>\n",
       "      <td>160205</td>\n",
       "      <td>30</td>\n",
       "      <td>YES</td>\n",
       "      <td>Good</td>\n",
       "    </tr>\n",
       "    <tr>\n",
       "      <th>3</th>\n",
       "      <td>YES</td>\n",
       "      <td>Single</td>\n",
       "      <td>50190</td>\n",
       "      <td>193264</td>\n",
       "      <td>15</td>\n",
       "      <td>YES</td>\n",
       "      <td>Good</td>\n",
       "    </tr>\n",
       "    <tr>\n",
       "      <th>4</th>\n",
       "      <td>NO</td>\n",
       "      <td>Married</td>\n",
       "      <td>81002</td>\n",
       "      <td>27533</td>\n",
       "      <td>28</td>\n",
       "      <td>NO</td>\n",
       "      <td>Good</td>\n",
       "    </tr>\n",
       "  </tbody>\n",
       "</table>\n",
       "</div>"
      ],
      "text/plain": [
       "  undergrad marital_status  taxable_income  city_population  work_experience  \\\n",
       "0        NO         Single           68833            50047               10   \n",
       "1       YES       Divorced           33700           134075               18   \n",
       "2        NO        Married           36925           160205               30   \n",
       "3       YES         Single           50190           193264               15   \n",
       "4        NO        Married           81002            27533               28   \n",
       "\n",
       "  urban target  \n",
       "0   YES   Good  \n",
       "1   YES   Good  \n",
       "2   YES   Good  \n",
       "3   YES   Good  \n",
       "4    NO   Good  "
      ]
     },
     "execution_count": 76,
     "metadata": {},
     "output_type": "execute_result"
    }
   ],
   "source": [
    "fraud_data_copy = fraud_data.copy()\n",
    "fraud_data_copy.head()"
   ]
  },
  {
   "cell_type": "code",
   "execution_count": 77,
   "id": "0a3e9572",
   "metadata": {},
   "outputs": [],
   "source": [
    "from sklearn.preprocessing import LabelEncoder\n",
    "le = LabelEncoder()\n",
    "fraud_data_copy['undergrad']      = le.fit_transform(fraud_data_copy['undergrad'])\n",
    "fraud_data_copy['marital_status'] = le.fit_transform(fraud_data_copy['marital_status'])\n",
    "fraud_data_copy['urban']          = le.fit_transform(fraud_data_copy['urban'])\n",
    "fraud_data_copy['target']         = le.fit_transform(fraud_data_copy['target'])"
   ]
  },
  {
   "cell_type": "code",
   "execution_count": 78,
   "id": "0485e0f9",
   "metadata": {},
   "outputs": [
    {
     "data": {
      "text/html": [
       "<div>\n",
       "<style scoped>\n",
       "    .dataframe tbody tr th:only-of-type {\n",
       "        vertical-align: middle;\n",
       "    }\n",
       "\n",
       "    .dataframe tbody tr th {\n",
       "        vertical-align: top;\n",
       "    }\n",
       "\n",
       "    .dataframe thead th {\n",
       "        text-align: right;\n",
       "    }\n",
       "</style>\n",
       "<table border=\"1\" class=\"dataframe\">\n",
       "  <thead>\n",
       "    <tr style=\"text-align: right;\">\n",
       "      <th></th>\n",
       "      <th>undergrad</th>\n",
       "      <th>marital_status</th>\n",
       "      <th>taxable_income</th>\n",
       "      <th>city_population</th>\n",
       "      <th>work_experience</th>\n",
       "      <th>urban</th>\n",
       "      <th>target</th>\n",
       "    </tr>\n",
       "  </thead>\n",
       "  <tbody>\n",
       "    <tr>\n",
       "      <th>0</th>\n",
       "      <td>0</td>\n",
       "      <td>2</td>\n",
       "      <td>68833</td>\n",
       "      <td>50047</td>\n",
       "      <td>10</td>\n",
       "      <td>1</td>\n",
       "      <td>0</td>\n",
       "    </tr>\n",
       "    <tr>\n",
       "      <th>1</th>\n",
       "      <td>1</td>\n",
       "      <td>0</td>\n",
       "      <td>33700</td>\n",
       "      <td>134075</td>\n",
       "      <td>18</td>\n",
       "      <td>1</td>\n",
       "      <td>0</td>\n",
       "    </tr>\n",
       "    <tr>\n",
       "      <th>2</th>\n",
       "      <td>0</td>\n",
       "      <td>1</td>\n",
       "      <td>36925</td>\n",
       "      <td>160205</td>\n",
       "      <td>30</td>\n",
       "      <td>1</td>\n",
       "      <td>0</td>\n",
       "    </tr>\n",
       "    <tr>\n",
       "      <th>3</th>\n",
       "      <td>1</td>\n",
       "      <td>2</td>\n",
       "      <td>50190</td>\n",
       "      <td>193264</td>\n",
       "      <td>15</td>\n",
       "      <td>1</td>\n",
       "      <td>0</td>\n",
       "    </tr>\n",
       "    <tr>\n",
       "      <th>4</th>\n",
       "      <td>0</td>\n",
       "      <td>1</td>\n",
       "      <td>81002</td>\n",
       "      <td>27533</td>\n",
       "      <td>28</td>\n",
       "      <td>0</td>\n",
       "      <td>0</td>\n",
       "    </tr>\n",
       "    <tr>\n",
       "      <th>5</th>\n",
       "      <td>0</td>\n",
       "      <td>0</td>\n",
       "      <td>33329</td>\n",
       "      <td>116382</td>\n",
       "      <td>0</td>\n",
       "      <td>0</td>\n",
       "      <td>0</td>\n",
       "    </tr>\n",
       "    <tr>\n",
       "      <th>6</th>\n",
       "      <td>0</td>\n",
       "      <td>0</td>\n",
       "      <td>83357</td>\n",
       "      <td>80890</td>\n",
       "      <td>8</td>\n",
       "      <td>1</td>\n",
       "      <td>0</td>\n",
       "    </tr>\n",
       "    <tr>\n",
       "      <th>7</th>\n",
       "      <td>1</td>\n",
       "      <td>2</td>\n",
       "      <td>62774</td>\n",
       "      <td>131253</td>\n",
       "      <td>3</td>\n",
       "      <td>1</td>\n",
       "      <td>0</td>\n",
       "    </tr>\n",
       "    <tr>\n",
       "      <th>8</th>\n",
       "      <td>0</td>\n",
       "      <td>2</td>\n",
       "      <td>83519</td>\n",
       "      <td>102481</td>\n",
       "      <td>12</td>\n",
       "      <td>1</td>\n",
       "      <td>0</td>\n",
       "    </tr>\n",
       "    <tr>\n",
       "      <th>9</th>\n",
       "      <td>1</td>\n",
       "      <td>0</td>\n",
       "      <td>98152</td>\n",
       "      <td>155482</td>\n",
       "      <td>4</td>\n",
       "      <td>1</td>\n",
       "      <td>0</td>\n",
       "    </tr>\n",
       "  </tbody>\n",
       "</table>\n",
       "</div>"
      ],
      "text/plain": [
       "   undergrad  marital_status  taxable_income  city_population  \\\n",
       "0          0               2           68833            50047   \n",
       "1          1               0           33700           134075   \n",
       "2          0               1           36925           160205   \n",
       "3          1               2           50190           193264   \n",
       "4          0               1           81002            27533   \n",
       "5          0               0           33329           116382   \n",
       "6          0               0           83357            80890   \n",
       "7          1               2           62774           131253   \n",
       "8          0               2           83519           102481   \n",
       "9          1               0           98152           155482   \n",
       "\n",
       "   work_experience  urban  target  \n",
       "0               10      1       0  \n",
       "1               18      1       0  \n",
       "2               30      1       0  \n",
       "3               15      1       0  \n",
       "4               28      0       0  \n",
       "5                0      0       0  \n",
       "6                8      1       0  \n",
       "7                3      1       0  \n",
       "8               12      1       0  \n",
       "9                4      1       0  "
      ]
     },
     "execution_count": 78,
     "metadata": {},
     "output_type": "execute_result"
    }
   ],
   "source": [
    "fraud_data_copy.head(10)"
   ]
  },
  {
   "cell_type": "markdown",
   "id": "83fdcfd4",
   "metadata": {},
   "source": [
    "##### NOTE :- In the above transforation technique :- For the columns - undergrad,urban\n",
    "##### Yes is transformed as '1' and No is transformed as '0'."
   ]
  },
  {
   "cell_type": "markdown",
   "id": "2cb7955f",
   "metadata": {},
   "source": [
    "#### Marital status transformation"
   ]
  },
  {
   "cell_type": "code",
   "execution_count": 79,
   "id": "e31d3a85",
   "metadata": {},
   "outputs": [
    {
     "data": {
      "text/plain": [
       "array(['Single', 'Divorced', 'Married'], dtype=object)"
      ]
     },
     "execution_count": 79,
     "metadata": {},
     "output_type": "execute_result"
    }
   ],
   "source": [
    "fraud_data['marital_status'].unique()"
   ]
  },
  {
   "cell_type": "code",
   "execution_count": 80,
   "id": "887b3b6e",
   "metadata": {},
   "outputs": [
    {
     "data": {
      "text/plain": [
       "array([2, 0, 1])"
      ]
     },
     "execution_count": 80,
     "metadata": {},
     "output_type": "execute_result"
    }
   ],
   "source": [
    "fraud_data_copy['marital_status'].unique()"
   ]
  },
  {
   "cell_type": "markdown",
   "id": "848824da",
   "metadata": {},
   "source": [
    "* Divorced - 0 \n",
    "* Married  - 1\n",
    "* Singe    - 2"
   ]
  },
  {
   "cell_type": "markdown",
   "id": "0ce10615",
   "metadata": {},
   "source": [
    "#### Target column transformation :"
   ]
  },
  {
   "cell_type": "code",
   "execution_count": 81,
   "id": "e23f671f",
   "metadata": {},
   "outputs": [
    {
     "data": {
      "text/plain": [
       "array(['Good', 'Risky'], dtype=object)"
      ]
     },
     "execution_count": 81,
     "metadata": {},
     "output_type": "execute_result"
    }
   ],
   "source": [
    "fraud_data['target'].unique()"
   ]
  },
  {
   "cell_type": "code",
   "execution_count": 82,
   "id": "083a7237",
   "metadata": {},
   "outputs": [
    {
     "data": {
      "text/plain": [
       "array([0, 1])"
      ]
     },
     "execution_count": 82,
     "metadata": {},
     "output_type": "execute_result"
    }
   ],
   "source": [
    "fraud_data_copy['target'].unique()"
   ]
  },
  {
   "cell_type": "markdown",
   "id": "1c0e0b48",
   "metadata": {},
   "source": [
    "* Good  - 0\n",
    "* Risky - 1"
   ]
  },
  {
   "cell_type": "markdown",
   "id": "20ddb485",
   "metadata": {},
   "source": [
    "### 5.2 Checking dataset after transformation :"
   ]
  },
  {
   "cell_type": "code",
   "execution_count": 83,
   "id": "3d4b32e4",
   "metadata": {},
   "outputs": [
    {
     "data": {
      "text/plain": [
       "undergrad          int32\n",
       "marital_status     int32\n",
       "taxable_income     int64\n",
       "city_population    int64\n",
       "work_experience    int64\n",
       "urban              int32\n",
       "target             int32\n",
       "dtype: object"
      ]
     },
     "execution_count": 83,
     "metadata": {},
     "output_type": "execute_result"
    }
   ],
   "source": [
    "fraud_data_copy.dtypes"
   ]
  },
  {
   "cell_type": "code",
   "execution_count": 84,
   "id": "96319b75",
   "metadata": {},
   "outputs": [
    {
     "data": {
      "text/plain": [
       "undergrad          0\n",
       "marital_status     0\n",
       "taxable_income     0\n",
       "city_population    0\n",
       "work_experience    0\n",
       "urban              0\n",
       "target             0\n",
       "dtype: int64"
      ]
     },
     "execution_count": 84,
     "metadata": {},
     "output_type": "execute_result"
    }
   ],
   "source": [
    "fraud_data_copy.isna().sum()"
   ]
  },
  {
   "cell_type": "markdown",
   "id": "dffdcc6c",
   "metadata": {},
   "source": [
    "## 6. Model Building :"
   ]
  },
  {
   "cell_type": "code",
   "execution_count": 96,
   "id": "e4665eec",
   "metadata": {},
   "outputs": [],
   "source": [
    "X = fraud_data_copy.drop(labels= 'target',axis=1)\n",
    "y = fraud_data_copy[['target']]"
   ]
  },
  {
   "cell_type": "code",
   "execution_count": 133,
   "id": "1d577cd3",
   "metadata": {},
   "outputs": [],
   "source": [
    "from sklearn.model_selection import train_test_split\n",
    "X_train, X_test, y_train, y_test = train_test_split(X,y,test_size=0.20,random_state=12)"
   ]
  },
  {
   "cell_type": "code",
   "execution_count": 134,
   "id": "aeb65d09",
   "metadata": {},
   "outputs": [
    {
     "data": {
      "text/plain": [
       "((480, 6), (480, 1))"
      ]
     },
     "execution_count": 134,
     "metadata": {},
     "output_type": "execute_result"
    }
   ],
   "source": [
    "X_train.shape, y_train.shape"
   ]
  },
  {
   "cell_type": "code",
   "execution_count": 135,
   "id": "b1cde537",
   "metadata": {},
   "outputs": [
    {
     "data": {
      "text/plain": [
       "((120, 6), (120, 1))"
      ]
     },
     "execution_count": 135,
     "metadata": {},
     "output_type": "execute_result"
    }
   ],
   "source": [
    "X_test.shape, y_test.shape"
   ]
  },
  {
   "cell_type": "markdown",
   "id": "0b78a83b",
   "metadata": {},
   "source": [
    "## 7. Model Training :"
   ]
  },
  {
   "cell_type": "code",
   "execution_count": 201,
   "id": "0660e62f",
   "metadata": {},
   "outputs": [],
   "source": [
    "from sklearn.tree import DecisionTreeClassifier\n",
    "from sklearn.ensemble import AdaBoostClassifier\n",
    "from sklearn.ensemble import BaggingClassifier\n",
    "from sklearn.ensemble import ExtraTreesClassifier"
   ]
  },
  {
   "cell_type": "code",
   "execution_count": 137,
   "id": "915f350b",
   "metadata": {},
   "outputs": [
    {
     "data": {
      "text/plain": [
       "DecisionTreeClassifier(max_depth=5)"
      ]
     },
     "execution_count": 137,
     "metadata": {},
     "output_type": "execute_result"
    }
   ],
   "source": [
    "dt_model_1 = DecisionTreeClassifier(criterion='gini',splitter='best',max_depth=5)\n",
    "dt_model_1.fit(X_train,y_train)"
   ]
  },
  {
   "cell_type": "code",
   "execution_count": 138,
   "id": "0ba20c7d",
   "metadata": {},
   "outputs": [
    {
     "data": {
      "image/png": "[encoded data removed]",
      "text/plain": [
       "<Figure size 1152x576 with 1 Axes>"
      ]
     },
     "metadata": {
      "needs_background": "light"
     },
     "output_type": "display_data"
    }
   ],
   "source": [
    "from sklearn.tree import plot_tree\n",
    "plt.figure(figsize=(16,8))\n",
    "plot_tree(dt_model_1,filled = True)\n",
    "plt.show()"
   ]
  },
  {
   "cell_type": "code",
   "execution_count": 139,
   "id": "70f9bbb4",
   "metadata": {},
   "outputs": [
    {
     "data": {
      "text/plain": [
       "DecisionTreeClassifier(max_depth=5, splitter='random')"
      ]
     },
     "execution_count": 139,
     "metadata": {},
     "output_type": "execute_result"
    }
   ],
   "source": [
    "dt_model_2 = DecisionTreeClassifier(criterion='gini',splitter='random',max_depth=5)\n",
    "dt_model_2.fit(X_train,y_train)"
   ]
  },
  {
   "cell_type": "code",
   "execution_count": 140,
   "id": "aa0da030",
   "metadata": {},
   "outputs": [
    {
     "data": {
      "image/png": "[encoded data removed]",
      "text/plain": [
       "<Figure size 1152x576 with 1 Axes>"
      ]
     },
     "metadata": {
      "needs_background": "light"
     },
     "output_type": "display_data"
    }
   ],
   "source": [
    "plt.figure(figsize=(16,8))\n",
    "plot_tree(dt_model_2,filled = True)\n",
    "plt.show()"
   ]
  },
  {
   "cell_type": "code",
   "execution_count": 141,
   "id": "c3f962c2",
   "metadata": {
    "scrolled": true
   },
   "outputs": [
    {
     "data": {
      "text/plain": [
       "DecisionTreeClassifier(criterion='entropy', max_depth=5, splitter='random')"
      ]
     },
     "execution_count": 141,
     "metadata": {},
     "output_type": "execute_result"
    }
   ],
   "source": [
    "dt_model_3 = DecisionTreeClassifier(criterion='entropy',splitter='random',max_depth=5)\n",
    "dt_model_3.fit(X_train,y_train)"
   ]
  },
  {
   "cell_type": "code",
   "execution_count": 202,
   "id": "ee847a56",
   "metadata": {},
   "outputs": [
    {
     "data": {
      "image/png": "[encoded data removed]",
      "text/plain": [
       "<Figure size 1152x576 with 1 Axes>"
      ]
     },
     "metadata": {
      "needs_background": "light"
     },
     "output_type": "display_data"
    }
   ],
   "source": [
    "plt.figure(figsize=(16,8))\n",
    "plot_tree(dt_model_3,filled = True)\n",
    "plt.show()"
   ]
  },
  {
   "cell_type": "code",
   "execution_count": 142,
   "id": "af1107f6",
   "metadata": {},
   "outputs": [
    {
     "data": {
      "text/plain": [
       "DecisionTreeClassifier(criterion='entropy', max_depth=5)"
      ]
     },
     "execution_count": 142,
     "metadata": {},
     "output_type": "execute_result"
    }
   ],
   "source": [
    "dt_model_4 = DecisionTreeClassifier(criterion='entropy',splitter='best',max_depth=5)\n",
    "dt_model_4.fit(X_train,y_train)"
   ]
  },
  {
   "cell_type": "code",
   "execution_count": 203,
   "id": "d87a287f",
   "metadata": {},
   "outputs": [
    {
     "data": {
      "image/png": "[encoded data removed]",
      "text/plain": [
       "<Figure size 1152x576 with 1 Axes>"
      ]
     },
     "metadata": {
      "needs_background": "light"
     },
     "output_type": "display_data"
    }
   ],
   "source": [
    "plt.figure(figsize=(16,8))\n",
    "plot_tree(dt_model_4,filled = True)\n",
    "plt.show()"
   ]
  },
  {
   "cell_type": "markdown",
   "id": "82915360",
   "metadata": {},
   "source": [
    "## 8. Model Testing :"
   ]
  },
  {
   "cell_type": "code",
   "execution_count": 143,
   "id": "264bfe84",
   "metadata": {},
   "outputs": [],
   "source": [
    "# Training data :\n",
    "\n",
    "y_predict_train_1 = dt_model_1.predict(X_train)\n",
    "y_predict_train_2 = dt_model_2.predict(X_train)\n",
    "y_predict_train_3 = dt_model_3.predict(X_train)\n",
    "y_predict_train_4 = dt_model_4.predict(X_train)\n",
    "\n",
    "# Test data :\n",
    "\n",
    "y_predict_test_1 = dt_model_1.predict(X_test)\n",
    "y_predict_test_2 = dt_model_2.predict(X_test)\n",
    "y_predict_test_3 = dt_model_3.predict(X_test)\n",
    "y_predict_test_4 = dt_model_4.predict(X_test)"
   ]
  },
  {
   "cell_type": "markdown",
   "id": "997019bb",
   "metadata": {},
   "source": [
    "## 9. Model Evaluation"
   ]
  },
  {
   "cell_type": "code",
   "execution_count": 144,
   "id": "27219f30",
   "metadata": {},
   "outputs": [],
   "source": [
    "from sklearn.metrics import accuracy_score,precision_score,recall_score,classification_report,confusion_matrix"
   ]
  },
  {
   "cell_type": "markdown",
   "id": "d93dd906",
   "metadata": {},
   "source": [
    "### 9.1 Training data :"
   ]
  },
  {
   "cell_type": "markdown",
   "id": "bace3134",
   "metadata": {},
   "source": [
    "####  Training Model -1"
   ]
  },
  {
   "cell_type": "code",
   "execution_count": 145,
   "id": "6e15f6b1",
   "metadata": {},
   "outputs": [
    {
     "name": "stdout",
     "output_type": "stream",
     "text": [
      "TRAINING MODEL - 1\n",
      "-------------------------------\n",
      "Accuracy Score        : 1.0\n",
      "Precision Score       : 1.0\n",
      "Recall Score          : 1.0\n",
      "Confusion Matrix      :\n",
      " [[369   0]\n",
      " [  0 111]]\n",
      "Classification Report :\n",
      "               precision    recall  f1-score   support\n",
      "\n",
      "           0       1.00      1.00      1.00       369\n",
      "           1       1.00      1.00      1.00       111\n",
      "\n",
      "    accuracy                           1.00       480\n",
      "   macro avg       1.00      1.00      1.00       480\n",
      "weighted avg       1.00      1.00      1.00       480\n",
      "\n"
     ]
    }
   ],
   "source": [
    "print('TRAINING MODEL - 1')\n",
    "print('-------------------------------')\n",
    "print('Accuracy Score        :',round(accuracy_score(y_train,y_predict_train_1),4))\n",
    "print('Precision Score       :',round(precision_score(y_train,y_predict_train_1),4))\n",
    "print('Recall Score          :',round(recall_score(y_train,y_predict_train_1),4))\n",
    "print('Confusion Matrix      :\\n',confusion_matrix(y_train,y_predict_train_1))\n",
    "print('Classification Report :\\n',classification_report(y_train,y_predict_train_1))"
   ]
  },
  {
   "cell_type": "markdown",
   "id": "086268cd",
   "metadata": {},
   "source": [
    "#### Training Model -2"
   ]
  },
  {
   "cell_type": "code",
   "execution_count": 146,
   "id": "af0d0556",
   "metadata": {},
   "outputs": [
    {
     "name": "stdout",
     "output_type": "stream",
     "text": [
      "TRAINING MODEL - 2\n",
      "-------------------------------\n",
      "Accuracy Score        : 0.925\n",
      "Precision Score       : 1.0\n",
      "Recall Score          : 0.6757\n",
      "Confusion Matrix      :\n",
      " [[369   0]\n",
      " [ 36  75]]\n",
      "Classification Report :\n",
      "               precision    recall  f1-score   support\n",
      "\n",
      "           0       0.91      1.00      0.95       369\n",
      "           1       1.00      0.68      0.81       111\n",
      "\n",
      "    accuracy                           0.93       480\n",
      "   macro avg       0.96      0.84      0.88       480\n",
      "weighted avg       0.93      0.93      0.92       480\n",
      "\n"
     ]
    }
   ],
   "source": [
    "print('TRAINING MODEL - 2')\n",
    "print('-------------------------------')\n",
    "print('Accuracy Score        :',round(accuracy_score(y_train,y_predict_train_2),4))\n",
    "print('Precision Score       :',round(precision_score(y_train,y_predict_train_2),4))\n",
    "print('Recall Score          :',round(recall_score(y_train,y_predict_train_2),4))\n",
    "print('Confusion Matrix      :\\n',confusion_matrix(y_train,y_predict_train_2))\n",
    "print('Classification Report :\\n',classification_report(y_train,y_predict_train_2))"
   ]
  },
  {
   "cell_type": "markdown",
   "id": "e7c5560b",
   "metadata": {},
   "source": [
    "#### Training Model -3"
   ]
  },
  {
   "cell_type": "code",
   "execution_count": 147,
   "id": "0fb5aa87",
   "metadata": {},
   "outputs": [
    {
     "name": "stdout",
     "output_type": "stream",
     "text": [
      "TRAINING MODEL - 3\n",
      "-------------------------------\n",
      "Accuracy Score        : 0.9396\n",
      "Precision Score       : 1.0\n",
      "Recall Score          : 0.7387\n",
      "Confusion Matrix      :\n",
      " [[369   0]\n",
      " [ 29  82]]\n",
      "Classification Report :\n",
      "               precision    recall  f1-score   support\n",
      "\n",
      "           0       0.93      1.00      0.96       369\n",
      "           1       1.00      0.74      0.85       111\n",
      "\n",
      "    accuracy                           0.94       480\n",
      "   macro avg       0.96      0.87      0.91       480\n",
      "weighted avg       0.94      0.94      0.94       480\n",
      "\n"
     ]
    }
   ],
   "source": [
    "print('TRAINING MODEL - 3')\n",
    "print('-------------------------------')\n",
    "print('Accuracy Score        :',round(accuracy_score(y_train,y_predict_train_3),4))\n",
    "print('Precision Score       :',round(precision_score(y_train,y_predict_train_3),4))\n",
    "print('Recall Score          :',round(recall_score(y_train,y_predict_train_3),4))\n",
    "print('Confusion Matrix      :\\n',confusion_matrix(y_train,y_predict_train_3))\n",
    "print('Classification Report :\\n',classification_report(y_train,y_predict_train_3))"
   ]
  },
  {
   "cell_type": "markdown",
   "id": "0243746a",
   "metadata": {},
   "source": [
    "#### Training model - 4"
   ]
  },
  {
   "cell_type": "code",
   "execution_count": 148,
   "id": "e59a1504",
   "metadata": {},
   "outputs": [
    {
     "name": "stdout",
     "output_type": "stream",
     "text": [
      "TRAINING MODEL - 4\n",
      "-------------------------------\n",
      "Accuracy Score        : 1.0\n",
      "Precision Score       : 1.0\n",
      "Recall Score          : 1.0\n",
      "Confusion Matrix      :\n",
      " [[369   0]\n",
      " [  0 111]]\n",
      "Classification Report :\n",
      "               precision    recall  f1-score   support\n",
      "\n",
      "           0       1.00      1.00      1.00       369\n",
      "           1       1.00      1.00      1.00       111\n",
      "\n",
      "    accuracy                           1.00       480\n",
      "   macro avg       1.00      1.00      1.00       480\n",
      "weighted avg       1.00      1.00      1.00       480\n",
      "\n"
     ]
    }
   ],
   "source": [
    "print('TRAINING MODEL - 4')\n",
    "print('-------------------------------')\n",
    "print('Accuracy Score        :',round(accuracy_score(y_train,y_predict_train_4),4))\n",
    "print('Precision Score       :',round(precision_score(y_train,y_predict_train_4),4))\n",
    "print('Recall Score          :',round(recall_score(y_train,y_predict_train_4),4))\n",
    "print('Confusion Matrix      :\\n',confusion_matrix(y_train,y_predict_train_4))\n",
    "print('Classification Report :\\n',classification_report(y_train,y_predict_train_4))"
   ]
  },
  {
   "cell_type": "markdown",
   "id": "aa36ede5",
   "metadata": {},
   "source": [
    "### 9.2 Test Data for models"
   ]
  },
  {
   "cell_type": "markdown",
   "id": "18c9d94d",
   "metadata": {},
   "source": [
    "#### Testing for Model -1"
   ]
  },
  {
   "cell_type": "code",
   "execution_count": 149,
   "id": "26d5705f",
   "metadata": {},
   "outputs": [
    {
     "name": "stdout",
     "output_type": "stream",
     "text": [
      "TEST MODEL - 1\n",
      "-------------------------------\n",
      "Accuracy Score        : 1.0\n",
      "Precision Score       : 1.0\n",
      "Recall Score          : 1.0\n",
      "Confusion Matrix      :\n",
      " [[107   0]\n",
      " [  0  13]]\n",
      "Classification Report :\n",
      "               precision    recall  f1-score   support\n",
      "\n",
      "           0       1.00      1.00      1.00       107\n",
      "           1       1.00      1.00      1.00        13\n",
      "\n",
      "    accuracy                           1.00       120\n",
      "   macro avg       1.00      1.00      1.00       120\n",
      "weighted avg       1.00      1.00      1.00       120\n",
      "\n"
     ]
    }
   ],
   "source": [
    "print('TEST MODEL - 1')\n",
    "print('-------------------------------')\n",
    "print('Accuracy Score        :',round(accuracy_score(y_test,y_predict_test_1),4))\n",
    "print('Precision Score       :',round(precision_score(y_test,y_predict_test_1),4))\n",
    "print('Recall Score          :',round(recall_score(y_test,y_predict_test_1),4))\n",
    "print('Confusion Matrix      :\\n',confusion_matrix(y_test,y_predict_test_1))\n",
    "print('Classification Report :\\n',classification_report(y_test,y_predict_test_1))"
   ]
  },
  {
   "cell_type": "markdown",
   "id": "15c56015",
   "metadata": {},
   "source": [
    "#### Test for Model -2"
   ]
  },
  {
   "cell_type": "code",
   "execution_count": 150,
   "id": "6c050891",
   "metadata": {},
   "outputs": [
    {
     "name": "stdout",
     "output_type": "stream",
     "text": [
      "TEST MODEL - 2\n",
      "-------------------------------\n",
      "Accuracy Score        : 0.95\n",
      "Precision Score       : 1.0\n",
      "Recall Score          : 0.5385\n",
      "Confusion Matrix      :\n",
      " [[107   0]\n",
      " [  6   7]]\n",
      "Classification Report :\n",
      "               precision    recall  f1-score   support\n",
      "\n",
      "           0       0.95      1.00      0.97       107\n",
      "           1       1.00      0.54      0.70        13\n",
      "\n",
      "    accuracy                           0.95       120\n",
      "   macro avg       0.97      0.77      0.84       120\n",
      "weighted avg       0.95      0.95      0.94       120\n",
      "\n"
     ]
    }
   ],
   "source": [
    "print('TEST MODEL - 2')\n",
    "print('-------------------------------')\n",
    "print('Accuracy Score        :',round(accuracy_score(y_test,y_predict_test_2),4))\n",
    "print('Precision Score       :',round(precision_score(y_test,y_predict_test_2),4))\n",
    "print('Recall Score          :',round(recall_score(y_test,y_predict_test_2),4))\n",
    "print('Confusion Matrix      :\\n',confusion_matrix(y_test,y_predict_test_2))\n",
    "print('Classification Report :\\n',classification_report(y_test,y_predict_test_2))"
   ]
  },
  {
   "cell_type": "markdown",
   "id": "c68df2fb",
   "metadata": {},
   "source": [
    "#### Test for Model-3"
   ]
  },
  {
   "cell_type": "code",
   "execution_count": 151,
   "id": "d58c9fab",
   "metadata": {},
   "outputs": [
    {
     "name": "stdout",
     "output_type": "stream",
     "text": [
      "TEST MODEL - 3\n",
      "-------------------------------\n",
      "Accuracy Score        : 0.95\n",
      "Precision Score       : 1.0\n",
      "Recall Score          : 0.5385\n",
      "Confusion Matrix      :\n",
      " [[107   0]\n",
      " [  6   7]]\n",
      "Classification Report :\n",
      "               precision    recall  f1-score   support\n",
      "\n",
      "           0       0.95      1.00      0.97       107\n",
      "           1       1.00      0.54      0.70        13\n",
      "\n",
      "    accuracy                           0.95       120\n",
      "   macro avg       0.97      0.77      0.84       120\n",
      "weighted avg       0.95      0.95      0.94       120\n",
      "\n"
     ]
    }
   ],
   "source": [
    "print('TEST MODEL - 3')\n",
    "print('-------------------------------')\n",
    "print('Accuracy Score        :',round(accuracy_score(y_test,y_predict_test_3),4))\n",
    "print('Precision Score       :',round(precision_score(y_test,y_predict_test_3),4))\n",
    "print('Recall Score          :',round(recall_score(y_test,y_predict_test_3),4))\n",
    "print('Confusion Matrix      :\\n',confusion_matrix(y_test,y_predict_test_3))\n",
    "print('Classification Report :\\n',classification_report(y_test,y_predict_test_3))"
   ]
  },
  {
   "cell_type": "markdown",
   "id": "a70acfda",
   "metadata": {},
   "source": [
    "#### Test for model-4"
   ]
  },
  {
   "cell_type": "code",
   "execution_count": 152,
   "id": "1c4a4da5",
   "metadata": {},
   "outputs": [
    {
     "name": "stdout",
     "output_type": "stream",
     "text": [
      "TEST MODEL - 4\n",
      "-------------------------------\n",
      "Accuracy Score        : 1.0\n",
      "Precision Score       : 1.0\n",
      "Recall Score          : 1.0\n",
      "Confusion Matrix      :\n",
      " [[107   0]\n",
      " [  0  13]]\n",
      "Classification Report :\n",
      "               precision    recall  f1-score   support\n",
      "\n",
      "           0       1.00      1.00      1.00       107\n",
      "           1       1.00      1.00      1.00        13\n",
      "\n",
      "    accuracy                           1.00       120\n",
      "   macro avg       1.00      1.00      1.00       120\n",
      "weighted avg       1.00      1.00      1.00       120\n",
      "\n"
     ]
    }
   ],
   "source": [
    "print('TEST MODEL - 4')\n",
    "print('-------------------------------')\n",
    "print('Accuracy Score        :',round(accuracy_score(y_test,y_predict_test_4),4))\n",
    "print('Precision Score       :',round(precision_score(y_test,y_predict_test_4),4))\n",
    "print('Recall Score          :',round(recall_score(y_test,y_predict_test_4),4))\n",
    "print('Confusion Matrix      :\\n',confusion_matrix(y_test,y_predict_test_4))\n",
    "print('Classification Report :\\n',classification_report(y_test,y_predict_test_4))"
   ]
  },
  {
   "cell_type": "code",
   "execution_count": 153,
   "id": "75c51d26",
   "metadata": {},
   "outputs": [
    {
     "data": {
      "text/html": [
       "<div>\n",
       "<style scoped>\n",
       "    .dataframe tbody tr th:only-of-type {\n",
       "        vertical-align: middle;\n",
       "    }\n",
       "\n",
       "    .dataframe tbody tr th {\n",
       "        vertical-align: top;\n",
       "    }\n",
       "\n",
       "    .dataframe thead th {\n",
       "        text-align: right;\n",
       "    }\n",
       "</style>\n",
       "<table border=\"1\" class=\"dataframe\">\n",
       "  <thead>\n",
       "    <tr style=\"text-align: right;\">\n",
       "      <th></th>\n",
       "      <th>Train_Models</th>\n",
       "      <th>Train_Accuracy_Scores</th>\n",
       "      <th>Test_Accuracy_Scores</th>\n",
       "      <th>Train_Precision_Scores</th>\n",
       "      <th>Test_Precision_Scores</th>\n",
       "      <th>Train_Recall_Scores</th>\n",
       "      <th>Test_Recall_Scores</th>\n",
       "    </tr>\n",
       "  </thead>\n",
       "  <tbody>\n",
       "    <tr>\n",
       "      <th>0</th>\n",
       "      <td>Model_1</td>\n",
       "      <td>1.0000</td>\n",
       "      <td>1.00</td>\n",
       "      <td>1.0</td>\n",
       "      <td>1.0</td>\n",
       "      <td>1.0000</td>\n",
       "      <td>1.0000</td>\n",
       "    </tr>\n",
       "    <tr>\n",
       "      <th>1</th>\n",
       "      <td>Model_2</td>\n",
       "      <td>0.9250</td>\n",
       "      <td>0.95</td>\n",
       "      <td>1.0</td>\n",
       "      <td>1.0</td>\n",
       "      <td>0.6757</td>\n",
       "      <td>0.5385</td>\n",
       "    </tr>\n",
       "    <tr>\n",
       "      <th>2</th>\n",
       "      <td>Model_3</td>\n",
       "      <td>0.9396</td>\n",
       "      <td>0.95</td>\n",
       "      <td>1.0</td>\n",
       "      <td>1.0</td>\n",
       "      <td>0.7387</td>\n",
       "      <td>0.5385</td>\n",
       "    </tr>\n",
       "    <tr>\n",
       "      <th>3</th>\n",
       "      <td>Model_4</td>\n",
       "      <td>1.0000</td>\n",
       "      <td>1.00</td>\n",
       "      <td>1.0</td>\n",
       "      <td>1.0</td>\n",
       "      <td>1.0000</td>\n",
       "      <td>1.0000</td>\n",
       "    </tr>\n",
       "  </tbody>\n",
       "</table>\n",
       "</div>"
      ],
      "text/plain": [
       "  Train_Models  Train_Accuracy_Scores  Test_Accuracy_Scores  \\\n",
       "0      Model_1                 1.0000                  1.00   \n",
       "1      Model_2                 0.9250                  0.95   \n",
       "2      Model_3                 0.9396                  0.95   \n",
       "3      Model_4                 1.0000                  1.00   \n",
       "\n",
       "   Train_Precision_Scores  Test_Precision_Scores  Train_Recall_Scores  \\\n",
       "0                     1.0                    1.0               1.0000   \n",
       "1                     1.0                    1.0               0.6757   \n",
       "2                     1.0                    1.0               0.7387   \n",
       "3                     1.0                    1.0               1.0000   \n",
       "\n",
       "   Test_Recall_Scores  \n",
       "0              1.0000  \n",
       "1              0.5385  \n",
       "2              0.5385  \n",
       "3              1.0000  "
      ]
     },
     "execution_count": 153,
     "metadata": {},
     "output_type": "execute_result"
    }
   ],
   "source": [
    "train_models_values = {'Train_Models':['Model_1','Model_2','Model_3','Model_4'],\n",
    "                       'Train_Accuracy_Scores':[round(accuracy_score(y_train,y_predict_train_1),4),\n",
    "                                          round(accuracy_score(y_train,y_predict_train_2),4),\n",
    "                                          round(accuracy_score(y_train,y_predict_train_3),4),\n",
    "                                          round(accuracy_score(y_train,y_predict_train_4),4)],\n",
    "                       'Test_Accuracy_Scores':[round(accuracy_score(y_test,y_predict_test_1),4),\n",
    "                                          round(accuracy_score(y_test,y_predict_test_2),4),\n",
    "                                          round(accuracy_score(y_test,y_predict_test_3),4),\n",
    "                                          round(accuracy_score(y_test,y_predict_test_4),4)],\n",
    "                      'Train_Precision_Scores':[round(precision_score(y_train,y_predict_train_1),4),\n",
    "                                          round(precision_score(y_train,y_predict_train_2),4),\n",
    "                                          round(precision_score(y_train,y_predict_train_3),4),\n",
    "                                          round(precision_score(y_train,y_predict_train_4),4)],\n",
    "                       'Test_Precision_Scores':[round(precision_score(y_test,y_predict_test_1),4),\n",
    "                                             round(precision_score(y_test,y_predict_test_2),4),\n",
    "                                             round(precision_score(y_test,y_predict_test_3),4),\n",
    "                                             round(precision_score(y_test,y_predict_test_4),4)],\n",
    "                      'Train_Recall_Scores':[round(recall_score(y_train,y_predict_train_1),4),\n",
    "                                             round(recall_score(y_train,y_predict_train_2),4),\n",
    "                                             round(recall_score(y_train,y_predict_train_3),4),\n",
    "                                             round(recall_score(y_train,y_predict_train_4),4)],\n",
    "                      'Test_Recall_Scores':[round(recall_score(y_test,y_predict_test_1),4),\n",
    "                                            round(recall_score(y_test,y_predict_test_2),4),\n",
    "                                            round(recall_score(y_test,y_predict_test_3),4),\n",
    "                                            round(recall_score(y_test,y_predict_test_4),4)]}\n",
    "train_models_values_df = pd.DataFrame(train_models_values)\n",
    "train_models_values_df"
   ]
  },
  {
   "cell_type": "markdown",
   "id": "4f78fb71",
   "metadata": {},
   "source": [
    "## ------------------------------------------------------------------------------------------------------------------------------"
   ]
  },
  {
   "cell_type": "markdown",
   "id": "1ef0291b",
   "metadata": {},
   "source": [
    "## Building more models using ensemble techniques :"
   ]
  },
  {
   "cell_type": "markdown",
   "id": "ffec0cce",
   "metadata": {},
   "source": [
    "#### Ada Boost Classifier :"
   ]
  },
  {
   "cell_type": "code",
   "execution_count": 154,
   "id": "18d5fa4c",
   "metadata": {
    "scrolled": false
   },
   "outputs": [
    {
     "data": {
      "text/plain": [
       "AdaBoostClassifier(base_estimator=DecisionTreeClassifier(criterion='entropy',\n",
       "                                                         max_depth=5,\n",
       "                                                         splitter='random'))"
      ]
     },
     "execution_count": 154,
     "metadata": {},
     "output_type": "execute_result"
    }
   ],
   "source": [
    "dt_model_5 = AdaBoostClassifier(base_estimator= DecisionTreeClassifier(criterion='entropy',splitter='random',max_depth=5))\n",
    "dt_model_5.fit(X_train,y_train)"
   ]
  },
  {
   "cell_type": "code",
   "execution_count": 155,
   "id": "41ea5af8",
   "metadata": {},
   "outputs": [],
   "source": [
    "y_predict_train_5 = dt_model_5.predict(X_train)\n",
    "y_predict_test_5  = dt_model_5.predict(X_test)"
   ]
  },
  {
   "cell_type": "code",
   "execution_count": 156,
   "id": "9867f096",
   "metadata": {},
   "outputs": [
    {
     "name": "stdout",
     "output_type": "stream",
     "text": [
      "TRAINING MODEL - 5\n",
      "-------------------------------\n",
      "Accuracy Score        : 1.0\n",
      "Precision Score       : 1.0\n",
      "Recall Score          : 1.0\n",
      "Confusion Matrix      :\n",
      " [[369   0]\n",
      " [  0 111]]\n",
      "Classification Report :\n",
      "               precision    recall  f1-score   support\n",
      "\n",
      "           0       1.00      1.00      1.00       369\n",
      "           1       1.00      1.00      1.00       111\n",
      "\n",
      "    accuracy                           1.00       480\n",
      "   macro avg       1.00      1.00      1.00       480\n",
      "weighted avg       1.00      1.00      1.00       480\n",
      "\n"
     ]
    }
   ],
   "source": [
    "print('TRAINING MODEL - 5')\n",
    "print('-------------------------------')\n",
    "print('Accuracy Score        :',round(accuracy_score(y_train,y_predict_train_5),4))\n",
    "print('Precision Score       :',round(precision_score(y_train,y_predict_train_5),4))\n",
    "print('Recall Score          :',round(recall_score(y_train,y_predict_train_5),4))\n",
    "print('Confusion Matrix      :\\n',confusion_matrix(y_train,y_predict_train_5))\n",
    "print('Classification Report :\\n',classification_report(y_train,y_predict_train_5))"
   ]
  },
  {
   "cell_type": "code",
   "execution_count": 157,
   "id": "35996f51",
   "metadata": {},
   "outputs": [
    {
     "name": "stdout",
     "output_type": "stream",
     "text": [
      "TEST MODEL - 5\n",
      "-------------------------------\n",
      "Accuracy Score        : 0.9833\n",
      "Precision Score       : 0.8667\n",
      "Recall Score          : 1.0\n",
      "Confusion Matrix      :\n",
      " [[105   2]\n",
      " [  0  13]]\n",
      "Classification Report :\n",
      "               precision    recall  f1-score   support\n",
      "\n",
      "           0       1.00      0.98      0.99       107\n",
      "           1       0.87      1.00      0.93        13\n",
      "\n",
      "    accuracy                           0.98       120\n",
      "   macro avg       0.93      0.99      0.96       120\n",
      "weighted avg       0.99      0.98      0.98       120\n",
      "\n"
     ]
    }
   ],
   "source": [
    "print('TEST MODEL - 5')\n",
    "print('-------------------------------')\n",
    "print('Accuracy Score        :',round(accuracy_score(y_test,y_predict_test_5),4))\n",
    "print('Precision Score       :',round(precision_score(y_test,y_predict_test_5),4))\n",
    "print('Recall Score          :',round(recall_score(y_test,y_predict_test_5),4))\n",
    "print('Confusion Matrix      :\\n',confusion_matrix(y_test,y_predict_test_5))\n",
    "print('Classification Report :\\n',classification_report(y_test,y_predict_test_5))"
   ]
  },
  {
   "cell_type": "code",
   "execution_count": 158,
   "id": "6a6d5e43",
   "metadata": {
    "scrolled": true
   },
   "outputs": [
    {
     "data": {
      "text/plain": [
       "AdaBoostClassifier(base_estimator=DecisionTreeClassifier(max_depth=5,\n",
       "                                                         splitter='random'))"
      ]
     },
     "execution_count": 158,
     "metadata": {},
     "output_type": "execute_result"
    }
   ],
   "source": [
    "dt_model_6 = AdaBoostClassifier(DecisionTreeClassifier(criterion='gini',splitter='random',max_depth=5))\n",
    "dt_model_6.fit(X_train,y_train)"
   ]
  },
  {
   "cell_type": "code",
   "execution_count": 159,
   "id": "5259f254",
   "metadata": {},
   "outputs": [],
   "source": [
    "y_predict_train_6 = dt_model_6.predict(X_train)\n",
    "y_predict_test_6  = dt_model_6.predict(X_test)"
   ]
  },
  {
   "cell_type": "code",
   "execution_count": 161,
   "id": "a553e437",
   "metadata": {
    "scrolled": true
   },
   "outputs": [
    {
     "name": "stdout",
     "output_type": "stream",
     "text": [
      "TRAINING MODEL - 6\n",
      "-------------------------------\n",
      "Accuracy Score        : 1.0\n",
      "Precision Score       : 1.0\n",
      "Recall Score          : 1.0\n",
      "Confusion Matrix      :\n",
      " [[369   0]\n",
      " [  0 111]]\n",
      "Classification Report :\n",
      "               precision    recall  f1-score   support\n",
      "\n",
      "           0       1.00      1.00      1.00       369\n",
      "           1       1.00      1.00      1.00       111\n",
      "\n",
      "    accuracy                           1.00       480\n",
      "   macro avg       1.00      1.00      1.00       480\n",
      "weighted avg       1.00      1.00      1.00       480\n",
      "\n"
     ]
    }
   ],
   "source": [
    "print('TRAINING MODEL - 6')\n",
    "print('-------------------------------')\n",
    "print('Accuracy Score        :',round(accuracy_score(y_train,y_predict_train_6),4))\n",
    "print('Precision Score       :',round(precision_score(y_train,y_predict_train_6),4))\n",
    "print('Recall Score          :',round(recall_score(y_train,y_predict_train_6),4))\n",
    "print('Confusion Matrix      :\\n',confusion_matrix(y_train,y_predict_train_6))\n",
    "print('Classification Report :\\n',classification_report(y_train,y_predict_train_6))"
   ]
  },
  {
   "cell_type": "code",
   "execution_count": 162,
   "id": "3e03d394",
   "metadata": {
    "scrolled": true
   },
   "outputs": [
    {
     "name": "stdout",
     "output_type": "stream",
     "text": [
      "TEST MODEL - 6\n",
      "-------------------------------\n",
      "Accuracy Score        : 0.9833\n",
      "Precision Score       : 0.8667\n",
      "Recall Score          : 1.0\n",
      "Confusion Matrix      :\n",
      " [[105   2]\n",
      " [  0  13]]\n",
      "Classification Report :\n",
      "               precision    recall  f1-score   support\n",
      "\n",
      "           0       1.00      0.98      0.99       107\n",
      "           1       0.87      1.00      0.93        13\n",
      "\n",
      "    accuracy                           0.98       120\n",
      "   macro avg       0.93      0.99      0.96       120\n",
      "weighted avg       0.99      0.98      0.98       120\n",
      "\n"
     ]
    }
   ],
   "source": [
    "print('TEST MODEL - 6')\n",
    "print('-------------------------------')\n",
    "print('Accuracy Score        :',round(accuracy_score(y_test,y_predict_test_6),4))\n",
    "print('Precision Score       :',round(precision_score(y_test,y_predict_test_6),4))\n",
    "print('Recall Score          :',round(recall_score(y_test,y_predict_test_6),4))\n",
    "print('Confusion Matrix      :\\n',confusion_matrix(y_test,y_predict_test_6))\n",
    "print('Classification Report :\\n',classification_report(y_test,y_predict_test_6))"
   ]
  },
  {
   "cell_type": "markdown",
   "id": "add26f3e",
   "metadata": {},
   "source": [
    "#### Bagging Classifier :"
   ]
  },
  {
   "cell_type": "code",
   "execution_count": 163,
   "id": "02cf80b2",
   "metadata": {},
   "outputs": [
    {
     "data": {
      "text/plain": [
       "BaggingClassifier(base_estimator=DecisionTreeClassifier(criterion='entropy',\n",
       "                                                        max_depth=5,\n",
       "                                                        splitter='random'))"
      ]
     },
     "execution_count": 163,
     "metadata": {},
     "output_type": "execute_result"
    }
   ],
   "source": [
    "dt_model_7 = BaggingClassifier(base_estimator= DecisionTreeClassifier(criterion='entropy',splitter='random',max_depth=5))\n",
    "dt_model_7.fit(X_train,y_train)"
   ]
  },
  {
   "cell_type": "code",
   "execution_count": 164,
   "id": "2f0182c0",
   "metadata": {},
   "outputs": [],
   "source": [
    "y_predict_train_7 = dt_model_7.predict(X_train)\n",
    "y_predict_test_7  = dt_model_7.predict(X_test)"
   ]
  },
  {
   "cell_type": "code",
   "execution_count": 165,
   "id": "d44df974",
   "metadata": {},
   "outputs": [
    {
     "name": "stdout",
     "output_type": "stream",
     "text": [
      "TRAINING MODEL - 7\n",
      "-------------------------------\n",
      "Accuracy Score        : 1.0\n",
      "Precision Score       : 1.0\n",
      "Recall Score          : 1.0\n",
      "Confusion Matrix      :\n",
      " [[369   0]\n",
      " [  0 111]]\n",
      "Classification Report :\n",
      "               precision    recall  f1-score   support\n",
      "\n",
      "           0       1.00      1.00      1.00       369\n",
      "           1       1.00      1.00      1.00       111\n",
      "\n",
      "    accuracy                           1.00       480\n",
      "   macro avg       1.00      1.00      1.00       480\n",
      "weighted avg       1.00      1.00      1.00       480\n",
      "\n"
     ]
    }
   ],
   "source": [
    "print('TRAINING MODEL - 7')\n",
    "print('-------------------------------')\n",
    "print('Accuracy Score        :',round(accuracy_score(y_train,y_predict_train_7),4))\n",
    "print('Precision Score       :',round(precision_score(y_train,y_predict_train_7),4))\n",
    "print('Recall Score          :',round(recall_score(y_train,y_predict_train_7),4))\n",
    "print('Confusion Matrix      :\\n',confusion_matrix(y_train,y_predict_train_7))\n",
    "print('Classification Report :\\n',classification_report(y_train,y_predict_train_7))\n"
   ]
  },
  {
   "cell_type": "code",
   "execution_count": 166,
   "id": "92df588f",
   "metadata": {},
   "outputs": [
    {
     "name": "stdout",
     "output_type": "stream",
     "text": [
      "TEST MODEL - 7\n",
      "-------------------------------\n",
      "Accuracy Score        : 1.0\n",
      "Precision Score       : 1.0\n",
      "Recall Score          : 1.0\n",
      "Confusion Matrix      :\n",
      " [[107   0]\n",
      " [  0  13]]\n",
      "Classification Report :\n",
      "               precision    recall  f1-score   support\n",
      "\n",
      "           0       1.00      1.00      1.00       107\n",
      "           1       1.00      1.00      1.00        13\n",
      "\n",
      "    accuracy                           1.00       120\n",
      "   macro avg       1.00      1.00      1.00       120\n",
      "weighted avg       1.00      1.00      1.00       120\n",
      "\n"
     ]
    }
   ],
   "source": [
    "print('TEST MODEL - 7')\n",
    "print('-------------------------------')\n",
    "print('Accuracy Score        :',round(accuracy_score(y_test,y_predict_test_7),4))\n",
    "print('Precision Score       :',round(precision_score(y_test,y_predict_test_7),4))\n",
    "print('Recall Score          :',round(recall_score(y_test,y_predict_test_7),4))\n",
    "print('Confusion Matrix      :\\n',confusion_matrix(y_test,y_predict_test_7))\n",
    "print('Classification Report :\\n',classification_report(y_test,y_predict_test_7))\n",
    "\n"
   ]
  },
  {
   "cell_type": "code",
   "execution_count": 167,
   "id": "b53abe87",
   "metadata": {},
   "outputs": [
    {
     "data": {
      "text/plain": [
       "BaggingClassifier(base_estimator=DecisionTreeClassifier(max_depth=5,\n",
       "                                                        splitter='random'))"
      ]
     },
     "execution_count": 167,
     "metadata": {},
     "output_type": "execute_result"
    }
   ],
   "source": [
    "dt_model_8 = BaggingClassifier(DecisionTreeClassifier(criterion='gini',splitter='random',max_depth=5))\n",
    "dt_model_8.fit(X_train,y_train)\n"
   ]
  },
  {
   "cell_type": "code",
   "execution_count": 168,
   "id": "2213ef82",
   "metadata": {},
   "outputs": [],
   "source": [
    "y_predict_train_8 = dt_model_8.predict(X_train)\n",
    "y_predict_test_8  = dt_model_8.predict(X_test)"
   ]
  },
  {
   "cell_type": "code",
   "execution_count": 169,
   "id": "b3082e1a",
   "metadata": {},
   "outputs": [
    {
     "name": "stdout",
     "output_type": "stream",
     "text": [
      "TRAINING MODEL - 8\n",
      "-------------------------------\n",
      "Accuracy Score        : 1.0\n",
      "Precision Score       : 1.0\n",
      "Recall Score          : 1.0\n",
      "Confusion Matrix      :\n",
      " [[369   0]\n",
      " [  0 111]]\n",
      "Classification Report :\n",
      "               precision    recall  f1-score   support\n",
      "\n",
      "           0       1.00      1.00      1.00       369\n",
      "           1       1.00      1.00      1.00       111\n",
      "\n",
      "    accuracy                           1.00       480\n",
      "   macro avg       1.00      1.00      1.00       480\n",
      "weighted avg       1.00      1.00      1.00       480\n",
      "\n",
      "TEST MODEL - 8\n",
      "-------------------------------\n",
      "Accuracy Score        : 0.9833\n",
      "Precision Score       : 0.8667\n",
      "Recall Score          : 1.0\n",
      "Confusion Matrix      :\n",
      " [[105   2]\n",
      " [  0  13]]\n",
      "Classification Report :\n",
      "               precision    recall  f1-score   support\n",
      "\n",
      "           0       1.00      0.98      0.99       107\n",
      "           1       0.87      1.00      0.93        13\n",
      "\n",
      "    accuracy                           0.98       120\n",
      "   macro avg       0.93      0.99      0.96       120\n",
      "weighted avg       0.99      0.98      0.98       120\n",
      "\n"
     ]
    }
   ],
   "source": [
    "print('TRAINING MODEL - 8')\n",
    "print('-------------------------------')\n",
    "print('Accuracy Score        :',round(accuracy_score(y_train,y_predict_train_8),4))\n",
    "print('Precision Score       :',round(precision_score(y_train,y_predict_train_8),4))\n",
    "print('Recall Score          :',round(recall_score(y_train,y_predict_train_8),4))\n",
    "print('Confusion Matrix      :\\n',confusion_matrix(y_train,y_predict_train_8))\n",
    "print('Classification Report :\\n',classification_report(y_train,y_predict_train_8))\n",
    "\n",
    "print('TEST MODEL - 8')\n",
    "print('-------------------------------')\n",
    "print('Accuracy Score        :',round(accuracy_score(y_test,y_predict_test_8),4))\n",
    "print('Precision Score       :',round(precision_score(y_test,y_predict_test_8),4))\n",
    "print('Recall Score          :',round(recall_score(y_test,y_predict_test_8),4))\n",
    "print('Confusion Matrix      :\\n',confusion_matrix(y_test,y_predict_test_8))\n",
    "print('Classification Report :\\n',classification_report(y_test,y_predict_test_8))"
   ]
  },
  {
   "cell_type": "markdown",
   "id": "b9234758",
   "metadata": {},
   "source": [
    "#### Extra Tree Classifier :"
   ]
  },
  {
   "cell_type": "code",
   "execution_count": 185,
   "id": "d717c132",
   "metadata": {},
   "outputs": [
    {
     "data": {
      "text/plain": [
       "ExtraTreesClassifier(max_depth=5, n_estimators=300)"
      ]
     },
     "execution_count": 185,
     "metadata": {},
     "output_type": "execute_result"
    }
   ],
   "source": [
    "dt_model_9 = ExtraTreesClassifier(n_estimators=300,criterion='gini',max_depth=5)\n",
    "dt_model_9.fit(X_train,y_train)"
   ]
  },
  {
   "cell_type": "code",
   "execution_count": 186,
   "id": "f6c64c88",
   "metadata": {},
   "outputs": [],
   "source": [
    "y_predict_train_9 = dt_model_9.predict(X_train)\n",
    "y_predict_test_9  = dt_model_9.predict(X_test)"
   ]
  },
  {
   "cell_type": "code",
   "execution_count": 187,
   "id": "f5287d35",
   "metadata": {},
   "outputs": [
    {
     "name": "stdout",
     "output_type": "stream",
     "text": [
      "TRAINING MODEL - 9\n",
      "-------------------------------\n",
      "Accuracy Score        : 0.9458\n",
      "Precision Score       : 1.0\n",
      "Recall Score          : 0.7658\n",
      "Confusion Matrix      :\n",
      " [[369   0]\n",
      " [ 26  85]]\n",
      "Classification Report :\n",
      "               precision    recall  f1-score   support\n",
      "\n",
      "           0       0.93      1.00      0.97       369\n",
      "           1       1.00      0.77      0.87       111\n",
      "\n",
      "    accuracy                           0.95       480\n",
      "   macro avg       0.97      0.88      0.92       480\n",
      "weighted avg       0.95      0.95      0.94       480\n",
      "\n",
      "TEST MODEL - 9\n",
      "-------------------------------\n",
      "Accuracy Score        : 0.95\n",
      "Precision Score       : 1.0\n",
      "Recall Score          : 0.5385\n",
      "Confusion Matrix      :\n",
      " [[107   0]\n",
      " [  6   7]]\n",
      "Classification Report :\n",
      "               precision    recall  f1-score   support\n",
      "\n",
      "           0       0.95      1.00      0.97       107\n",
      "           1       1.00      0.54      0.70        13\n",
      "\n",
      "    accuracy                           0.95       120\n",
      "   macro avg       0.97      0.77      0.84       120\n",
      "weighted avg       0.95      0.95      0.94       120\n",
      "\n"
     ]
    }
   ],
   "source": [
    "print('TRAINING MODEL - 9')\n",
    "print('-------------------------------')\n",
    "print('Accuracy Score        :',round(accuracy_score(y_train,y_predict_train_9),4))\n",
    "print('Precision Score       :',round(precision_score(y_train,y_predict_train_9),4))\n",
    "print('Recall Score          :',round(recall_score(y_train,y_predict_train_9),4))\n",
    "print('Confusion Matrix      :\\n',confusion_matrix(y_train,y_predict_train_9))\n",
    "print('Classification Report :\\n',classification_report(y_train,y_predict_train_9))\n",
    "\n",
    "print('TEST MODEL - 9')\n",
    "print('-------------------------------')\n",
    "print('Accuracy Score        :',round(accuracy_score(y_test,y_predict_test_9),4))\n",
    "print('Precision Score       :',round(precision_score(y_test,y_predict_test_9),4))\n",
    "print('Recall Score          :',round(recall_score(y_test,y_predict_test_9),4))\n",
    "print('Confusion Matrix      :\\n',confusion_matrix(y_test,y_predict_test_9))\n",
    "print('Classification Report :\\n',classification_report(y_test,y_predict_test_9))"
   ]
  },
  {
   "cell_type": "code",
   "execution_count": 189,
   "id": "b87fa944",
   "metadata": {},
   "outputs": [
    {
     "data": {
      "text/plain": [
       "ExtraTreesClassifier(criterion='entropy', max_depth=5, n_estimators=300)"
      ]
     },
     "execution_count": 189,
     "metadata": {},
     "output_type": "execute_result"
    }
   ],
   "source": [
    "dt_model_10 = ExtraTreesClassifier(n_estimators=300,criterion='entropy',max_depth=5)\n",
    "dt_model_10.fit(X_train,y_train)"
   ]
  },
  {
   "cell_type": "code",
   "execution_count": 190,
   "id": "f32763d7",
   "metadata": {},
   "outputs": [],
   "source": [
    "y_predict_train_10 = dt_model_10.predict(X_train)\n",
    "y_predict_test_10  = dt_model_10.predict(X_test)"
   ]
  },
  {
   "cell_type": "code",
   "execution_count": 194,
   "id": "23a201d9",
   "metadata": {},
   "outputs": [
    {
     "name": "stdout",
     "output_type": "stream",
     "text": [
      "TRAINING MODEL - 10\n",
      "-------------------------------\n",
      "Accuracy Score        : 0.9417\n",
      "Precision Score       : 1.0\n",
      "Recall Score          : 0.7477\n",
      "Confusion Matrix      :\n",
      " [[369   0]\n",
      " [ 28  83]]\n",
      "Classification Report :\n",
      "               precision    recall  f1-score   support\n",
      "\n",
      "           0       0.93      1.00      0.96       369\n",
      "           1       1.00      0.75      0.86       111\n",
      "\n",
      "    accuracy                           0.94       480\n",
      "   macro avg       0.96      0.87      0.91       480\n",
      "weighted avg       0.95      0.94      0.94       480\n",
      "\n",
      "TEST MODEL - 10\n",
      "-------------------------------\n",
      "Accuracy Score        : 0.9417\n",
      "Precision Score       : 1.0\n",
      "Recall Score          : 0.4615\n",
      "Confusion Matrix      :\n",
      " [[107   0]\n",
      " [  7   6]]\n",
      "Classification Report :\n",
      "               precision    recall  f1-score   support\n",
      "\n",
      "           0       0.94      1.00      0.97       107\n",
      "           1       1.00      0.46      0.63        13\n",
      "\n",
      "    accuracy                           0.94       120\n",
      "   macro avg       0.97      0.73      0.80       120\n",
      "weighted avg       0.95      0.94      0.93       120\n",
      "\n"
     ]
    }
   ],
   "source": [
    "print('TRAINING MODEL - 10')\n",
    "print('-------------------------------')\n",
    "print('Accuracy Score        :',round(accuracy_score(y_train,y_predict_train_10),4))\n",
    "print('Precision Score       :',round(precision_score(y_train,y_predict_train_10),4))\n",
    "print('Recall Score          :',round(recall_score(y_train,y_predict_train_10),4))\n",
    "print('Confusion Matrix      :\\n',confusion_matrix(y_train,y_predict_train_10))\n",
    "print('Classification Report :\\n',classification_report(y_train,y_predict_train_10))\n",
    "\n",
    "print('TEST MODEL - 10')\n",
    "print('-------------------------------')\n",
    "print('Accuracy Score        :',round(accuracy_score(y_test,y_predict_test_10),4))\n",
    "print('Precision Score       :',round(precision_score(y_test,y_predict_test_10),4))\n",
    "print('Recall Score          :',round(recall_score(y_test,y_predict_test_10),4))\n",
    "print('Confusion Matrix      :\\n',confusion_matrix(y_test,y_predict_test_10))\n",
    "print('Classification Report :\\n',classification_report(y_test,y_predict_test_10))"
   ]
  }
 ],
 "metadata": {
  "kernelspec": {
   "display_name": "Python 3",
   "language": "python",
   "name": "python3"
  },
  "language_info": {
   "codemirror_mode": {
    "name": "ipython",
    "version": 3
   },
   "file_extension": ".py",
   "mimetype": "text/x-python",
   "name": "python",
   "nbconvert_exporter": "python",
   "pygments_lexer": "ipython3",
   "version": "3.8.8"
  }
 },
 "nbformat": 4,
 "nbformat_minor": 5
}
