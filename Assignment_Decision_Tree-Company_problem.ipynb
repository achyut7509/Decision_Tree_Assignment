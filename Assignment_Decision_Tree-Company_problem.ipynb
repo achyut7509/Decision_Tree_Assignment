{
 "cells": [
  {
   "cell_type": "markdown",
   "id": "940ca34f",
   "metadata": {},
   "source": [
    "# Decision Tree - Company Problem\n",
    "\n",
    "## -------------------------------------------------------------------------------------------------------------------------------\n",
    "## Problem Statement :-\n",
    "\n",
    "### A cloth manufacturing company is interested to know about the segment or attributes causes high sale. \n",
    "\n",
    "### Approach - A decision tree can be built with target variable Sale (we will first convert it in categorical variable) & all other variable will be independent in the analysis.  "
   ]
  },
  {
   "cell_type": "markdown",
   "id": "ebd44c1f",
   "metadata": {},
   "source": [
    "## 1. Import Libraries :"
   ]
  },
  {
   "cell_type": "code",
   "execution_count": 1,
   "id": "8cd33e16",
   "metadata": {},
   "outputs": [],
   "source": [
    "import pandas as pd\n",
    "import matplotlib.pyplot as plt\n",
    "\n",
    "import warnings\n",
    "warnings.filterwarnings('ignore')"
   ]
  },
  {
   "cell_type": "markdown",
   "id": "1eee222b",
   "metadata": {},
   "source": [
    "## 2. Import Dataset :"
   ]
  },
  {
   "cell_type": "code",
   "execution_count": 2,
   "id": "cefe0126",
   "metadata": {},
   "outputs": [
    {
     "data": {
      "text/html": [
       "<div>\n",
       "<style scoped>\n",
       "    .dataframe tbody tr th:only-of-type {\n",
       "        vertical-align: middle;\n",
       "    }\n",
       "\n",
       "    .dataframe tbody tr th {\n",
       "        vertical-align: top;\n",
       "    }\n",
       "\n",
       "    .dataframe thead th {\n",
       "        text-align: right;\n",
       "    }\n",
       "</style>\n",
       "<table border=\"1\" class=\"dataframe\">\n",
       "  <thead>\n",
       "    <tr style=\"text-align: right;\">\n",
       "      <th></th>\n",
       "      <th>Sales</th>\n",
       "      <th>CompPrice</th>\n",
       "      <th>Income</th>\n",
       "      <th>Advertising</th>\n",
       "      <th>Population</th>\n",
       "      <th>Price</th>\n",
       "      <th>ShelveLoc</th>\n",
       "      <th>Age</th>\n",
       "      <th>Education</th>\n",
       "      <th>Urban</th>\n",
       "      <th>US</th>\n",
       "    </tr>\n",
       "  </thead>\n",
       "  <tbody>\n",
       "    <tr>\n",
       "      <th>0</th>\n",
       "      <td>9.50</td>\n",
       "      <td>138</td>\n",
       "      <td>73</td>\n",
       "      <td>11</td>\n",
       "      <td>276</td>\n",
       "      <td>120</td>\n",
       "      <td>Bad</td>\n",
       "      <td>42</td>\n",
       "      <td>17</td>\n",
       "      <td>Yes</td>\n",
       "      <td>Yes</td>\n",
       "    </tr>\n",
       "    <tr>\n",
       "      <th>1</th>\n",
       "      <td>11.22</td>\n",
       "      <td>111</td>\n",
       "      <td>48</td>\n",
       "      <td>16</td>\n",
       "      <td>260</td>\n",
       "      <td>83</td>\n",
       "      <td>Good</td>\n",
       "      <td>65</td>\n",
       "      <td>10</td>\n",
       "      <td>Yes</td>\n",
       "      <td>Yes</td>\n",
       "    </tr>\n",
       "    <tr>\n",
       "      <th>2</th>\n",
       "      <td>10.06</td>\n",
       "      <td>113</td>\n",
       "      <td>35</td>\n",
       "      <td>10</td>\n",
       "      <td>269</td>\n",
       "      <td>80</td>\n",
       "      <td>Medium</td>\n",
       "      <td>59</td>\n",
       "      <td>12</td>\n",
       "      <td>Yes</td>\n",
       "      <td>Yes</td>\n",
       "    </tr>\n",
       "    <tr>\n",
       "      <th>3</th>\n",
       "      <td>7.40</td>\n",
       "      <td>117</td>\n",
       "      <td>100</td>\n",
       "      <td>4</td>\n",
       "      <td>466</td>\n",
       "      <td>97</td>\n",
       "      <td>Medium</td>\n",
       "      <td>55</td>\n",
       "      <td>14</td>\n",
       "      <td>Yes</td>\n",
       "      <td>Yes</td>\n",
       "    </tr>\n",
       "    <tr>\n",
       "      <th>4</th>\n",
       "      <td>4.15</td>\n",
       "      <td>141</td>\n",
       "      <td>64</td>\n",
       "      <td>3</td>\n",
       "      <td>340</td>\n",
       "      <td>128</td>\n",
       "      <td>Bad</td>\n",
       "      <td>38</td>\n",
       "      <td>13</td>\n",
       "      <td>Yes</td>\n",
       "      <td>No</td>\n",
       "    </tr>\n",
       "    <tr>\n",
       "      <th>...</th>\n",
       "      <td>...</td>\n",
       "      <td>...</td>\n",
       "      <td>...</td>\n",
       "      <td>...</td>\n",
       "      <td>...</td>\n",
       "      <td>...</td>\n",
       "      <td>...</td>\n",
       "      <td>...</td>\n",
       "      <td>...</td>\n",
       "      <td>...</td>\n",
       "      <td>...</td>\n",
       "    </tr>\n",
       "    <tr>\n",
       "      <th>395</th>\n",
       "      <td>12.57</td>\n",
       "      <td>138</td>\n",
       "      <td>108</td>\n",
       "      <td>17</td>\n",
       "      <td>203</td>\n",
       "      <td>128</td>\n",
       "      <td>Good</td>\n",
       "      <td>33</td>\n",
       "      <td>14</td>\n",
       "      <td>Yes</td>\n",
       "      <td>Yes</td>\n",
       "    </tr>\n",
       "    <tr>\n",
       "      <th>396</th>\n",
       "      <td>6.14</td>\n",
       "      <td>139</td>\n",
       "      <td>23</td>\n",
       "      <td>3</td>\n",
       "      <td>37</td>\n",
       "      <td>120</td>\n",
       "      <td>Medium</td>\n",
       "      <td>55</td>\n",
       "      <td>11</td>\n",
       "      <td>No</td>\n",
       "      <td>Yes</td>\n",
       "    </tr>\n",
       "    <tr>\n",
       "      <th>397</th>\n",
       "      <td>7.41</td>\n",
       "      <td>162</td>\n",
       "      <td>26</td>\n",
       "      <td>12</td>\n",
       "      <td>368</td>\n",
       "      <td>159</td>\n",
       "      <td>Medium</td>\n",
       "      <td>40</td>\n",
       "      <td>18</td>\n",
       "      <td>Yes</td>\n",
       "      <td>Yes</td>\n",
       "    </tr>\n",
       "    <tr>\n",
       "      <th>398</th>\n",
       "      <td>5.94</td>\n",
       "      <td>100</td>\n",
       "      <td>79</td>\n",
       "      <td>7</td>\n",
       "      <td>284</td>\n",
       "      <td>95</td>\n",
       "      <td>Bad</td>\n",
       "      <td>50</td>\n",
       "      <td>12</td>\n",
       "      <td>Yes</td>\n",
       "      <td>Yes</td>\n",
       "    </tr>\n",
       "    <tr>\n",
       "      <th>399</th>\n",
       "      <td>9.71</td>\n",
       "      <td>134</td>\n",
       "      <td>37</td>\n",
       "      <td>0</td>\n",
       "      <td>27</td>\n",
       "      <td>120</td>\n",
       "      <td>Good</td>\n",
       "      <td>49</td>\n",
       "      <td>16</td>\n",
       "      <td>Yes</td>\n",
       "      <td>Yes</td>\n",
       "    </tr>\n",
       "  </tbody>\n",
       "</table>\n",
       "<p>400 rows × 11 columns</p>\n",
       "</div>"
      ],
      "text/plain": [
       "     Sales  CompPrice  Income  Advertising  Population  Price ShelveLoc  Age  \\\n",
       "0     9.50        138      73           11         276    120       Bad   42   \n",
       "1    11.22        111      48           16         260     83      Good   65   \n",
       "2    10.06        113      35           10         269     80    Medium   59   \n",
       "3     7.40        117     100            4         466     97    Medium   55   \n",
       "4     4.15        141      64            3         340    128       Bad   38   \n",
       "..     ...        ...     ...          ...         ...    ...       ...  ...   \n",
       "395  12.57        138     108           17         203    128      Good   33   \n",
       "396   6.14        139      23            3          37    120    Medium   55   \n",
       "397   7.41        162      26           12         368    159    Medium   40   \n",
       "398   5.94        100      79            7         284     95       Bad   50   \n",
       "399   9.71        134      37            0          27    120      Good   49   \n",
       "\n",
       "     Education Urban   US  \n",
       "0           17   Yes  Yes  \n",
       "1           10   Yes  Yes  \n",
       "2           12   Yes  Yes  \n",
       "3           14   Yes  Yes  \n",
       "4           13   Yes   No  \n",
       "..         ...   ...  ...  \n",
       "395         14   Yes  Yes  \n",
       "396         11    No  Yes  \n",
       "397         18   Yes  Yes  \n",
       "398         12   Yes  Yes  \n",
       "399         16   Yes  Yes  \n",
       "\n",
       "[400 rows x 11 columns]"
      ]
     },
     "execution_count": 2,
     "metadata": {},
     "output_type": "execute_result"
    }
   ],
   "source": [
    "company_data = pd.read_csv('Company_Data.csv',sep=',')\n",
    "company_data"
   ]
  },
  {
   "cell_type": "markdown",
   "id": "82e0d462",
   "metadata": {},
   "source": [
    "## 3. Data Understanding :"
   ]
  },
  {
   "cell_type": "markdown",
   "id": "f7df96cd",
   "metadata": {},
   "source": [
    "### 3.1  About the data : \n",
    "\n",
    "Let’s consider a Company dataset with around 10 variables and 400 records. \n",
    "The attributes are as follows: \n",
    "*  **Sales** -- Unit sales (in thousands) at each location\n",
    "*  **Competitor Price** -- Price charged by competitor at each location\n",
    "*  **Income** -- Community income level (in thousands of dollars)\n",
    "*  **Advertising** -- Local advertising budget for company at each location (in thousands of dollars)\n",
    "*  **Population** -- Population size in region (in thousands)\n",
    "*  **Price** -- Price company charges for car seats at each site\n",
    "*  **Shelf Location at stores** -- A factor with levels Bad, Good and Medium indicating the quality of the shelving location for the car seats at each site\n",
    "*  **Age** -- Average age of the local population\n",
    "*  **Education** -- Education level at each location\n",
    "*  **Urban** -- A factor with levels No and Yes to indicate whether the store is in an urban or rural location\n",
    "*  **US** -- A factor with levels No and Yes to indicate whether the store is in the US or not\n",
    " "
   ]
  },
  {
   "cell_type": "markdown",
   "id": "7b830d0c",
   "metadata": {},
   "source": [
    "### 3.2 Initial Analysis :"
   ]
  },
  {
   "cell_type": "code",
   "execution_count": 3,
   "id": "d551a15e",
   "metadata": {},
   "outputs": [
    {
     "data": {
      "text/plain": [
       "(400, 11)"
      ]
     },
     "execution_count": 3,
     "metadata": {},
     "output_type": "execute_result"
    }
   ],
   "source": [
    "company_data.shape"
   ]
  },
  {
   "cell_type": "code",
   "execution_count": 4,
   "id": "bfe30b72",
   "metadata": {},
   "outputs": [
    {
     "data": {
      "text/plain": [
       "Sales          0\n",
       "CompPrice      0\n",
       "Income         0\n",
       "Advertising    0\n",
       "Population     0\n",
       "Price          0\n",
       "ShelveLoc      0\n",
       "Age            0\n",
       "Education      0\n",
       "Urban          0\n",
       "US             0\n",
       "dtype: int64"
      ]
     },
     "execution_count": 4,
     "metadata": {},
     "output_type": "execute_result"
    }
   ],
   "source": [
    "company_data.isna().sum()"
   ]
  },
  {
   "cell_type": "code",
   "execution_count": 5,
   "id": "12678820",
   "metadata": {},
   "outputs": [
    {
     "data": {
      "text/plain": [
       "Sales          float64\n",
       "CompPrice        int64\n",
       "Income           int64\n",
       "Advertising      int64\n",
       "Population       int64\n",
       "Price            int64\n",
       "ShelveLoc       object\n",
       "Age              int64\n",
       "Education        int64\n",
       "Urban           object\n",
       "US              object\n",
       "dtype: object"
      ]
     },
     "execution_count": 5,
     "metadata": {},
     "output_type": "execute_result"
    }
   ],
   "source": [
    "company_data.dtypes"
   ]
  },
  {
   "cell_type": "markdown",
   "id": "2bfa6986",
   "metadata": {},
   "source": [
    "## 4. Data Preparation :"
   ]
  },
  {
   "cell_type": "code",
   "execution_count": 6,
   "id": "7a873ed1",
   "metadata": {},
   "outputs": [
    {
     "data": {
      "text/html": [
       "<div>\n",
       "<style scoped>\n",
       "    .dataframe tbody tr th:only-of-type {\n",
       "        vertical-align: middle;\n",
       "    }\n",
       "\n",
       "    .dataframe tbody tr th {\n",
       "        vertical-align: top;\n",
       "    }\n",
       "\n",
       "    .dataframe thead th {\n",
       "        text-align: right;\n",
       "    }\n",
       "</style>\n",
       "<table border=\"1\" class=\"dataframe\">\n",
       "  <thead>\n",
       "    <tr style=\"text-align: right;\">\n",
       "      <th></th>\n",
       "      <th>sales</th>\n",
       "      <th>comp_price</th>\n",
       "      <th>income</th>\n",
       "      <th>advertising</th>\n",
       "      <th>population</th>\n",
       "      <th>price</th>\n",
       "      <th>shelf_loc</th>\n",
       "      <th>age</th>\n",
       "      <th>education</th>\n",
       "      <th>urban</th>\n",
       "      <th>us</th>\n",
       "    </tr>\n",
       "  </thead>\n",
       "  <tbody>\n",
       "    <tr>\n",
       "      <th>0</th>\n",
       "      <td>9.50</td>\n",
       "      <td>138</td>\n",
       "      <td>73</td>\n",
       "      <td>11</td>\n",
       "      <td>276</td>\n",
       "      <td>120</td>\n",
       "      <td>Bad</td>\n",
       "      <td>42</td>\n",
       "      <td>17</td>\n",
       "      <td>Yes</td>\n",
       "      <td>Yes</td>\n",
       "    </tr>\n",
       "    <tr>\n",
       "      <th>1</th>\n",
       "      <td>11.22</td>\n",
       "      <td>111</td>\n",
       "      <td>48</td>\n",
       "      <td>16</td>\n",
       "      <td>260</td>\n",
       "      <td>83</td>\n",
       "      <td>Good</td>\n",
       "      <td>65</td>\n",
       "      <td>10</td>\n",
       "      <td>Yes</td>\n",
       "      <td>Yes</td>\n",
       "    </tr>\n",
       "    <tr>\n",
       "      <th>2</th>\n",
       "      <td>10.06</td>\n",
       "      <td>113</td>\n",
       "      <td>35</td>\n",
       "      <td>10</td>\n",
       "      <td>269</td>\n",
       "      <td>80</td>\n",
       "      <td>Medium</td>\n",
       "      <td>59</td>\n",
       "      <td>12</td>\n",
       "      <td>Yes</td>\n",
       "      <td>Yes</td>\n",
       "    </tr>\n",
       "    <tr>\n",
       "      <th>3</th>\n",
       "      <td>7.40</td>\n",
       "      <td>117</td>\n",
       "      <td>100</td>\n",
       "      <td>4</td>\n",
       "      <td>466</td>\n",
       "      <td>97</td>\n",
       "      <td>Medium</td>\n",
       "      <td>55</td>\n",
       "      <td>14</td>\n",
       "      <td>Yes</td>\n",
       "      <td>Yes</td>\n",
       "    </tr>\n",
       "    <tr>\n",
       "      <th>4</th>\n",
       "      <td>4.15</td>\n",
       "      <td>141</td>\n",
       "      <td>64</td>\n",
       "      <td>3</td>\n",
       "      <td>340</td>\n",
       "      <td>128</td>\n",
       "      <td>Bad</td>\n",
       "      <td>38</td>\n",
       "      <td>13</td>\n",
       "      <td>Yes</td>\n",
       "      <td>No</td>\n",
       "    </tr>\n",
       "  </tbody>\n",
       "</table>\n",
       "</div>"
      ],
      "text/plain": [
       "   sales  comp_price  income  advertising  population  price shelf_loc  age  \\\n",
       "0   9.50         138      73           11         276    120       Bad   42   \n",
       "1  11.22         111      48           16         260     83      Good   65   \n",
       "2  10.06         113      35           10         269     80    Medium   59   \n",
       "3   7.40         117     100            4         466     97    Medium   55   \n",
       "4   4.15         141      64            3         340    128       Bad   38   \n",
       "\n",
       "   education urban   us  \n",
       "0         17   Yes  Yes  \n",
       "1         10   Yes  Yes  \n",
       "2         12   Yes  Yes  \n",
       "3         14   Yes  Yes  \n",
       "4         13   Yes   No  "
      ]
     },
     "execution_count": 6,
     "metadata": {},
     "output_type": "execute_result"
    }
   ],
   "source": [
    "# Renaming columns\n",
    "company_data.columns =['sales','comp_price','income','advertising','population','price','shelf_loc','age','education','urban','us']\n",
    "company_data.head()"
   ]
  },
  {
   "cell_type": "code",
   "execution_count": 7,
   "id": "f2fd4df9",
   "metadata": {
    "scrolled": false
   },
   "outputs": [
    {
     "data": {
      "text/plain": [
       "7.496"
      ]
     },
     "execution_count": 7,
     "metadata": {},
     "output_type": "execute_result"
    }
   ],
   "source": [
    "round(company_data['sales'].mean(),3)"
   ]
  },
  {
   "cell_type": "code",
   "execution_count": 8,
   "id": "c9e2e888",
   "metadata": {},
   "outputs": [
    {
     "data": {
      "text/plain": [
       "7.49"
      ]
     },
     "execution_count": 8,
     "metadata": {},
     "output_type": "execute_result"
    }
   ],
   "source": [
    "round(company_data['sales'].median(),3)"
   ]
  },
  {
   "cell_type": "code",
   "execution_count": 9,
   "id": "3e60a4fe",
   "metadata": {},
   "outputs": [
    {
     "data": {
      "text/html": [
       "<div>\n",
       "<style scoped>\n",
       "    .dataframe tbody tr th:only-of-type {\n",
       "        vertical-align: middle;\n",
       "    }\n",
       "\n",
       "    .dataframe tbody tr th {\n",
       "        vertical-align: top;\n",
       "    }\n",
       "\n",
       "    .dataframe thead th {\n",
       "        text-align: right;\n",
       "    }\n",
       "</style>\n",
       "<table border=\"1\" class=\"dataframe\">\n",
       "  <thead>\n",
       "    <tr style=\"text-align: right;\">\n",
       "      <th></th>\n",
       "      <th>sales</th>\n",
       "      <th>comp_price</th>\n",
       "      <th>income</th>\n",
       "      <th>advertising</th>\n",
       "      <th>population</th>\n",
       "      <th>price</th>\n",
       "      <th>shelf_loc</th>\n",
       "      <th>age</th>\n",
       "      <th>education</th>\n",
       "      <th>urban</th>\n",
       "      <th>us</th>\n",
       "      <th>target_sales</th>\n",
       "    </tr>\n",
       "  </thead>\n",
       "  <tbody>\n",
       "    <tr>\n",
       "      <th>0</th>\n",
       "      <td>9.50</td>\n",
       "      <td>138</td>\n",
       "      <td>73</td>\n",
       "      <td>11</td>\n",
       "      <td>276</td>\n",
       "      <td>120</td>\n",
       "      <td>Bad</td>\n",
       "      <td>42</td>\n",
       "      <td>17</td>\n",
       "      <td>Yes</td>\n",
       "      <td>Yes</td>\n",
       "      <td>N/A</td>\n",
       "    </tr>\n",
       "    <tr>\n",
       "      <th>1</th>\n",
       "      <td>11.22</td>\n",
       "      <td>111</td>\n",
       "      <td>48</td>\n",
       "      <td>16</td>\n",
       "      <td>260</td>\n",
       "      <td>83</td>\n",
       "      <td>Good</td>\n",
       "      <td>65</td>\n",
       "      <td>10</td>\n",
       "      <td>Yes</td>\n",
       "      <td>Yes</td>\n",
       "      <td>N/A</td>\n",
       "    </tr>\n",
       "    <tr>\n",
       "      <th>2</th>\n",
       "      <td>10.06</td>\n",
       "      <td>113</td>\n",
       "      <td>35</td>\n",
       "      <td>10</td>\n",
       "      <td>269</td>\n",
       "      <td>80</td>\n",
       "      <td>Medium</td>\n",
       "      <td>59</td>\n",
       "      <td>12</td>\n",
       "      <td>Yes</td>\n",
       "      <td>Yes</td>\n",
       "      <td>N/A</td>\n",
       "    </tr>\n",
       "    <tr>\n",
       "      <th>3</th>\n",
       "      <td>7.40</td>\n",
       "      <td>117</td>\n",
       "      <td>100</td>\n",
       "      <td>4</td>\n",
       "      <td>466</td>\n",
       "      <td>97</td>\n",
       "      <td>Medium</td>\n",
       "      <td>55</td>\n",
       "      <td>14</td>\n",
       "      <td>Yes</td>\n",
       "      <td>Yes</td>\n",
       "      <td>N/A</td>\n",
       "    </tr>\n",
       "    <tr>\n",
       "      <th>4</th>\n",
       "      <td>4.15</td>\n",
       "      <td>141</td>\n",
       "      <td>64</td>\n",
       "      <td>3</td>\n",
       "      <td>340</td>\n",
       "      <td>128</td>\n",
       "      <td>Bad</td>\n",
       "      <td>38</td>\n",
       "      <td>13</td>\n",
       "      <td>Yes</td>\n",
       "      <td>No</td>\n",
       "      <td>N/A</td>\n",
       "    </tr>\n",
       "  </tbody>\n",
       "</table>\n",
       "</div>"
      ],
      "text/plain": [
       "   sales  comp_price  income  advertising  population  price shelf_loc  age  \\\n",
       "0   9.50         138      73           11         276    120       Bad   42   \n",
       "1  11.22         111      48           16         260     83      Good   65   \n",
       "2  10.06         113      35           10         269     80    Medium   59   \n",
       "3   7.40         117     100            4         466     97    Medium   55   \n",
       "4   4.15         141      64            3         340    128       Bad   38   \n",
       "\n",
       "   education urban   us target_sales  \n",
       "0         17   Yes  Yes          N/A  \n",
       "1         10   Yes  Yes          N/A  \n",
       "2         12   Yes  Yes          N/A  \n",
       "3         14   Yes  Yes          N/A  \n",
       "4         13   Yes   No          N/A  "
      ]
     },
     "execution_count": 9,
     "metadata": {},
     "output_type": "execute_result"
    }
   ],
   "source": [
    "#creating a target column \n",
    "company_data['target_sales'] = 'N/A'\n",
    "company_data.head()"
   ]
  },
  {
   "cell_type": "code",
   "execution_count": 10,
   "id": "66c2ce89",
   "metadata": {},
   "outputs": [],
   "source": [
    "# Above Mentioned that the target variable is based on sales.\n",
    "# So we know that sales can be either **\"High\"** or \"Low\".\n",
    "# Based on this sales price we must design a target variable.\n",
    "# As we know that the average sales is \"7.49\". \n",
    "# So we can assume sales > 7.50 is \"High\" and sales < 7.50 is \"Low\"\n",
    "\n",
    "\n",
    "for i in range(0,company_data.shape[0]):\n",
    "    if company_data.sales[i] > 7.50:\n",
    "        company_data.target_sales[i] = 'High'\n",
    "    else:\n",
    "        company_data.target_sales[i] = 'Low'"
   ]
  },
  {
   "cell_type": "code",
   "execution_count": 11,
   "id": "c9be1e85",
   "metadata": {},
   "outputs": [
    {
     "data": {
      "text/html": [
       "<div>\n",
       "<style scoped>\n",
       "    .dataframe tbody tr th:only-of-type {\n",
       "        vertical-align: middle;\n",
       "    }\n",
       "\n",
       "    .dataframe tbody tr th {\n",
       "        vertical-align: top;\n",
       "    }\n",
       "\n",
       "    .dataframe thead th {\n",
       "        text-align: right;\n",
       "    }\n",
       "</style>\n",
       "<table border=\"1\" class=\"dataframe\">\n",
       "  <thead>\n",
       "    <tr style=\"text-align: right;\">\n",
       "      <th></th>\n",
       "      <th>sales</th>\n",
       "      <th>comp_price</th>\n",
       "      <th>income</th>\n",
       "      <th>advertising</th>\n",
       "      <th>population</th>\n",
       "      <th>price</th>\n",
       "      <th>shelf_loc</th>\n",
       "      <th>age</th>\n",
       "      <th>education</th>\n",
       "      <th>urban</th>\n",
       "      <th>us</th>\n",
       "      <th>target_sales</th>\n",
       "    </tr>\n",
       "  </thead>\n",
       "  <tbody>\n",
       "    <tr>\n",
       "      <th>0</th>\n",
       "      <td>9.50</td>\n",
       "      <td>138</td>\n",
       "      <td>73</td>\n",
       "      <td>11</td>\n",
       "      <td>276</td>\n",
       "      <td>120</td>\n",
       "      <td>Bad</td>\n",
       "      <td>42</td>\n",
       "      <td>17</td>\n",
       "      <td>Yes</td>\n",
       "      <td>Yes</td>\n",
       "      <td>High</td>\n",
       "    </tr>\n",
       "    <tr>\n",
       "      <th>1</th>\n",
       "      <td>11.22</td>\n",
       "      <td>111</td>\n",
       "      <td>48</td>\n",
       "      <td>16</td>\n",
       "      <td>260</td>\n",
       "      <td>83</td>\n",
       "      <td>Good</td>\n",
       "      <td>65</td>\n",
       "      <td>10</td>\n",
       "      <td>Yes</td>\n",
       "      <td>Yes</td>\n",
       "      <td>High</td>\n",
       "    </tr>\n",
       "    <tr>\n",
       "      <th>2</th>\n",
       "      <td>10.06</td>\n",
       "      <td>113</td>\n",
       "      <td>35</td>\n",
       "      <td>10</td>\n",
       "      <td>269</td>\n",
       "      <td>80</td>\n",
       "      <td>Medium</td>\n",
       "      <td>59</td>\n",
       "      <td>12</td>\n",
       "      <td>Yes</td>\n",
       "      <td>Yes</td>\n",
       "      <td>High</td>\n",
       "    </tr>\n",
       "    <tr>\n",
       "      <th>3</th>\n",
       "      <td>7.40</td>\n",
       "      <td>117</td>\n",
       "      <td>100</td>\n",
       "      <td>4</td>\n",
       "      <td>466</td>\n",
       "      <td>97</td>\n",
       "      <td>Medium</td>\n",
       "      <td>55</td>\n",
       "      <td>14</td>\n",
       "      <td>Yes</td>\n",
       "      <td>Yes</td>\n",
       "      <td>Low</td>\n",
       "    </tr>\n",
       "    <tr>\n",
       "      <th>4</th>\n",
       "      <td>4.15</td>\n",
       "      <td>141</td>\n",
       "      <td>64</td>\n",
       "      <td>3</td>\n",
       "      <td>340</td>\n",
       "      <td>128</td>\n",
       "      <td>Bad</td>\n",
       "      <td>38</td>\n",
       "      <td>13</td>\n",
       "      <td>Yes</td>\n",
       "      <td>No</td>\n",
       "      <td>Low</td>\n",
       "    </tr>\n",
       "  </tbody>\n",
       "</table>\n",
       "</div>"
      ],
      "text/plain": [
       "   sales  comp_price  income  advertising  population  price shelf_loc  age  \\\n",
       "0   9.50         138      73           11         276    120       Bad   42   \n",
       "1  11.22         111      48           16         260     83      Good   65   \n",
       "2  10.06         113      35           10         269     80    Medium   59   \n",
       "3   7.40         117     100            4         466     97    Medium   55   \n",
       "4   4.15         141      64            3         340    128       Bad   38   \n",
       "\n",
       "   education urban   us target_sales  \n",
       "0         17   Yes  Yes         High  \n",
       "1         10   Yes  Yes         High  \n",
       "2         12   Yes  Yes         High  \n",
       "3         14   Yes  Yes          Low  \n",
       "4         13   Yes   No          Low  "
      ]
     },
     "execution_count": 11,
     "metadata": {},
     "output_type": "execute_result"
    }
   ],
   "source": [
    "company_data.head()"
   ]
  },
  {
   "cell_type": "code",
   "execution_count": 12,
   "id": "c1f64b63",
   "metadata": {},
   "outputs": [
    {
     "data": {
      "text/plain": [
       "sales           float64\n",
       "comp_price        int64\n",
       "income            int64\n",
       "advertising       int64\n",
       "population        int64\n",
       "price             int64\n",
       "shelf_loc        object\n",
       "age               int64\n",
       "education         int64\n",
       "urban            object\n",
       "us               object\n",
       "target_sales     object\n",
       "dtype: object"
      ]
     },
     "execution_count": 12,
     "metadata": {},
     "output_type": "execute_result"
    }
   ],
   "source": [
    "company_data.dtypes"
   ]
  },
  {
   "cell_type": "markdown",
   "id": "bf44618e",
   "metadata": {},
   "source": [
    "## 5. Data Pre-Processing :"
   ]
  },
  {
   "cell_type": "markdown",
   "id": "3d8a93d3",
   "metadata": {},
   "source": [
    "### 5.1 Data Transformation :"
   ]
  },
  {
   "cell_type": "code",
   "execution_count": 13,
   "id": "cc70e292",
   "metadata": {},
   "outputs": [
    {
     "data": {
      "text/html": [
       "<div>\n",
       "<style scoped>\n",
       "    .dataframe tbody tr th:only-of-type {\n",
       "        vertical-align: middle;\n",
       "    }\n",
       "\n",
       "    .dataframe tbody tr th {\n",
       "        vertical-align: top;\n",
       "    }\n",
       "\n",
       "    .dataframe thead th {\n",
       "        text-align: right;\n",
       "    }\n",
       "</style>\n",
       "<table border=\"1\" class=\"dataframe\">\n",
       "  <thead>\n",
       "    <tr style=\"text-align: right;\">\n",
       "      <th></th>\n",
       "      <th>sales</th>\n",
       "      <th>comp_price</th>\n",
       "      <th>income</th>\n",
       "      <th>advertising</th>\n",
       "      <th>population</th>\n",
       "      <th>price</th>\n",
       "      <th>shelf_loc</th>\n",
       "      <th>age</th>\n",
       "      <th>education</th>\n",
       "      <th>urban</th>\n",
       "      <th>us</th>\n",
       "      <th>target_sales</th>\n",
       "    </tr>\n",
       "  </thead>\n",
       "  <tbody>\n",
       "    <tr>\n",
       "      <th>0</th>\n",
       "      <td>9.50</td>\n",
       "      <td>138</td>\n",
       "      <td>73</td>\n",
       "      <td>11</td>\n",
       "      <td>276</td>\n",
       "      <td>120</td>\n",
       "      <td>Bad</td>\n",
       "      <td>42</td>\n",
       "      <td>17</td>\n",
       "      <td>Yes</td>\n",
       "      <td>Yes</td>\n",
       "      <td>High</td>\n",
       "    </tr>\n",
       "    <tr>\n",
       "      <th>1</th>\n",
       "      <td>11.22</td>\n",
       "      <td>111</td>\n",
       "      <td>48</td>\n",
       "      <td>16</td>\n",
       "      <td>260</td>\n",
       "      <td>83</td>\n",
       "      <td>Good</td>\n",
       "      <td>65</td>\n",
       "      <td>10</td>\n",
       "      <td>Yes</td>\n",
       "      <td>Yes</td>\n",
       "      <td>High</td>\n",
       "    </tr>\n",
       "    <tr>\n",
       "      <th>2</th>\n",
       "      <td>10.06</td>\n",
       "      <td>113</td>\n",
       "      <td>35</td>\n",
       "      <td>10</td>\n",
       "      <td>269</td>\n",
       "      <td>80</td>\n",
       "      <td>Medium</td>\n",
       "      <td>59</td>\n",
       "      <td>12</td>\n",
       "      <td>Yes</td>\n",
       "      <td>Yes</td>\n",
       "      <td>High</td>\n",
       "    </tr>\n",
       "    <tr>\n",
       "      <th>3</th>\n",
       "      <td>7.40</td>\n",
       "      <td>117</td>\n",
       "      <td>100</td>\n",
       "      <td>4</td>\n",
       "      <td>466</td>\n",
       "      <td>97</td>\n",
       "      <td>Medium</td>\n",
       "      <td>55</td>\n",
       "      <td>14</td>\n",
       "      <td>Yes</td>\n",
       "      <td>Yes</td>\n",
       "      <td>Low</td>\n",
       "    </tr>\n",
       "    <tr>\n",
       "      <th>4</th>\n",
       "      <td>4.15</td>\n",
       "      <td>141</td>\n",
       "      <td>64</td>\n",
       "      <td>3</td>\n",
       "      <td>340</td>\n",
       "      <td>128</td>\n",
       "      <td>Bad</td>\n",
       "      <td>38</td>\n",
       "      <td>13</td>\n",
       "      <td>Yes</td>\n",
       "      <td>No</td>\n",
       "      <td>Low</td>\n",
       "    </tr>\n",
       "  </tbody>\n",
       "</table>\n",
       "</div>"
      ],
      "text/plain": [
       "   sales  comp_price  income  advertising  population  price shelf_loc  age  \\\n",
       "0   9.50         138      73           11         276    120       Bad   42   \n",
       "1  11.22         111      48           16         260     83      Good   65   \n",
       "2  10.06         113      35           10         269     80    Medium   59   \n",
       "3   7.40         117     100            4         466     97    Medium   55   \n",
       "4   4.15         141      64            3         340    128       Bad   38   \n",
       "\n",
       "   education urban   us target_sales  \n",
       "0         17   Yes  Yes         High  \n",
       "1         10   Yes  Yes         High  \n",
       "2         12   Yes  Yes         High  \n",
       "3         14   Yes  Yes          Low  \n",
       "4         13   Yes   No          Low  "
      ]
     },
     "execution_count": 13,
     "metadata": {},
     "output_type": "execute_result"
    }
   ],
   "source": [
    "company_data_copy = company_data.copy()\n",
    "company_data_copy.head()"
   ]
  },
  {
   "cell_type": "markdown",
   "id": "f4bbc005",
   "metadata": {},
   "source": [
    "#### I. First converting the object data types to \"Categorical\" Datatypes."
   ]
  },
  {
   "cell_type": "code",
   "execution_count": 14,
   "id": "55792018",
   "metadata": {},
   "outputs": [],
   "source": [
    "company_data_copy['shelf_loc']    = company_data_copy['shelf_loc'].astype('category')\n",
    "company_data_copy['urban']        = company_data_copy['urban'].astype('category')\n",
    "company_data_copy['us']           = company_data_copy['us'].astype('category')\n",
    "company_data_copy['target_sales'] = company_data_copy['target_sales'].astype('category')"
   ]
  },
  {
   "cell_type": "code",
   "execution_count": 15,
   "id": "619e9f3c",
   "metadata": {},
   "outputs": [
    {
     "data": {
      "text/plain": [
       "sales            float64\n",
       "comp_price         int64\n",
       "income             int64\n",
       "advertising        int64\n",
       "population         int64\n",
       "price              int64\n",
       "shelf_loc       category\n",
       "age                int64\n",
       "education          int64\n",
       "urban           category\n",
       "us              category\n",
       "target_sales    category\n",
       "dtype: object"
      ]
     },
     "execution_count": 15,
     "metadata": {},
     "output_type": "execute_result"
    }
   ],
   "source": [
    "# checking the conversion\n",
    "company_data_copy.dtypes"
   ]
  },
  {
   "cell_type": "markdown",
   "id": "b8ef53ec",
   "metadata": {},
   "source": [
    "#### II. Converting the converted \"categorical\" data types to \"numerical\" Datatypes using encoding technique."
   ]
  },
  {
   "cell_type": "code",
   "execution_count": 16,
   "id": "ba357daf",
   "metadata": {},
   "outputs": [],
   "source": [
    "from sklearn.preprocessing import LabelEncoder\n",
    "le = LabelEncoder()\n",
    "company_data_copy['shelf_loc']    = le.fit_transform(company_data_copy['shelf_loc'])\n",
    "company_data_copy['urban']        = le.fit_transform(company_data_copy['urban'])\n",
    "company_data_copy['us']           = le.fit_transform(company_data_copy['us'])\n",
    "company_data_copy['target_sales'] = le.fit_transform(company_data_copy['target_sales'])"
   ]
  },
  {
   "cell_type": "code",
   "execution_count": 17,
   "id": "83029368",
   "metadata": {},
   "outputs": [
    {
     "data": {
      "text/html": [
       "<div>\n",
       "<style scoped>\n",
       "    .dataframe tbody tr th:only-of-type {\n",
       "        vertical-align: middle;\n",
       "    }\n",
       "\n",
       "    .dataframe tbody tr th {\n",
       "        vertical-align: top;\n",
       "    }\n",
       "\n",
       "    .dataframe thead th {\n",
       "        text-align: right;\n",
       "    }\n",
       "</style>\n",
       "<table border=\"1\" class=\"dataframe\">\n",
       "  <thead>\n",
       "    <tr style=\"text-align: right;\">\n",
       "      <th></th>\n",
       "      <th>sales</th>\n",
       "      <th>comp_price</th>\n",
       "      <th>income</th>\n",
       "      <th>advertising</th>\n",
       "      <th>population</th>\n",
       "      <th>price</th>\n",
       "      <th>shelf_loc</th>\n",
       "      <th>age</th>\n",
       "      <th>education</th>\n",
       "      <th>urban</th>\n",
       "      <th>us</th>\n",
       "      <th>target_sales</th>\n",
       "    </tr>\n",
       "  </thead>\n",
       "  <tbody>\n",
       "    <tr>\n",
       "      <th>0</th>\n",
       "      <td>9.50</td>\n",
       "      <td>138</td>\n",
       "      <td>73</td>\n",
       "      <td>11</td>\n",
       "      <td>276</td>\n",
       "      <td>120</td>\n",
       "      <td>0</td>\n",
       "      <td>42</td>\n",
       "      <td>17</td>\n",
       "      <td>1</td>\n",
       "      <td>1</td>\n",
       "      <td>0</td>\n",
       "    </tr>\n",
       "    <tr>\n",
       "      <th>1</th>\n",
       "      <td>11.22</td>\n",
       "      <td>111</td>\n",
       "      <td>48</td>\n",
       "      <td>16</td>\n",
       "      <td>260</td>\n",
       "      <td>83</td>\n",
       "      <td>1</td>\n",
       "      <td>65</td>\n",
       "      <td>10</td>\n",
       "      <td>1</td>\n",
       "      <td>1</td>\n",
       "      <td>0</td>\n",
       "    </tr>\n",
       "    <tr>\n",
       "      <th>2</th>\n",
       "      <td>10.06</td>\n",
       "      <td>113</td>\n",
       "      <td>35</td>\n",
       "      <td>10</td>\n",
       "      <td>269</td>\n",
       "      <td>80</td>\n",
       "      <td>2</td>\n",
       "      <td>59</td>\n",
       "      <td>12</td>\n",
       "      <td>1</td>\n",
       "      <td>1</td>\n",
       "      <td>0</td>\n",
       "    </tr>\n",
       "    <tr>\n",
       "      <th>3</th>\n",
       "      <td>7.40</td>\n",
       "      <td>117</td>\n",
       "      <td>100</td>\n",
       "      <td>4</td>\n",
       "      <td>466</td>\n",
       "      <td>97</td>\n",
       "      <td>2</td>\n",
       "      <td>55</td>\n",
       "      <td>14</td>\n",
       "      <td>1</td>\n",
       "      <td>1</td>\n",
       "      <td>1</td>\n",
       "    </tr>\n",
       "    <tr>\n",
       "      <th>4</th>\n",
       "      <td>4.15</td>\n",
       "      <td>141</td>\n",
       "      <td>64</td>\n",
       "      <td>3</td>\n",
       "      <td>340</td>\n",
       "      <td>128</td>\n",
       "      <td>0</td>\n",
       "      <td>38</td>\n",
       "      <td>13</td>\n",
       "      <td>1</td>\n",
       "      <td>0</td>\n",
       "      <td>1</td>\n",
       "    </tr>\n",
       "  </tbody>\n",
       "</table>\n",
       "</div>"
      ],
      "text/plain": [
       "   sales  comp_price  income  advertising  population  price  shelf_loc  age  \\\n",
       "0   9.50         138      73           11         276    120          0   42   \n",
       "1  11.22         111      48           16         260     83          1   65   \n",
       "2  10.06         113      35           10         269     80          2   59   \n",
       "3   7.40         117     100            4         466     97          2   55   \n",
       "4   4.15         141      64            3         340    128          0   38   \n",
       "\n",
       "   education  urban  us  target_sales  \n",
       "0         17      1   1             0  \n",
       "1         10      1   1             0  \n",
       "2         12      1   1             0  \n",
       "3         14      1   1             1  \n",
       "4         13      1   0             1  "
      ]
     },
     "execution_count": 17,
     "metadata": {},
     "output_type": "execute_result"
    }
   ],
   "source": [
    "company_data_copy.head()"
   ]
  },
  {
   "cell_type": "markdown",
   "id": "f28c00f6",
   "metadata": {},
   "source": [
    "##### 1. Shelf_loc transformation :"
   ]
  },
  {
   "cell_type": "code",
   "execution_count": 19,
   "id": "6f2a0b7d",
   "metadata": {},
   "outputs": [
    {
     "data": {
      "text/plain": [
       "array(['Bad', 'Good', 'Medium'], dtype=object)"
      ]
     },
     "execution_count": 19,
     "metadata": {},
     "output_type": "execute_result"
    }
   ],
   "source": [
    "company_data['shelf_loc'].unique()"
   ]
  },
  {
   "cell_type": "code",
   "execution_count": 20,
   "id": "1e970f37",
   "metadata": {},
   "outputs": [
    {
     "data": {
      "text/plain": [
       "array([0, 1, 2])"
      ]
     },
     "execution_count": 20,
     "metadata": {},
     "output_type": "execute_result"
    }
   ],
   "source": [
    "company_data_copy['shelf_loc'].unique()"
   ]
  },
  {
   "cell_type": "markdown",
   "id": "309d728e",
   "metadata": {},
   "source": [
    "* 0 - **Bad**\n",
    "* 1 - **Good**\n",
    "* 2 - **Medium**"
   ]
  },
  {
   "cell_type": "markdown",
   "id": "8c30f2ab",
   "metadata": {},
   "source": [
    "##### 2. Urban column transformation :"
   ]
  },
  {
   "cell_type": "code",
   "execution_count": 28,
   "id": "c60558ae",
   "metadata": {},
   "outputs": [
    {
     "data": {
      "text/plain": [
       "array(['Yes', 'No'], dtype=object)"
      ]
     },
     "execution_count": 28,
     "metadata": {},
     "output_type": "execute_result"
    }
   ],
   "source": [
    "company_data['urban'].unique()"
   ]
  },
  {
   "cell_type": "code",
   "execution_count": 29,
   "id": "f18c1d13",
   "metadata": {},
   "outputs": [
    {
     "data": {
      "text/plain": [
       "array([1, 0])"
      ]
     },
     "execution_count": 29,
     "metadata": {},
     "output_type": "execute_result"
    }
   ],
   "source": [
    "company_data_copy['urban'].unique()"
   ]
  },
  {
   "cell_type": "markdown",
   "id": "85ff85cc",
   "metadata": {},
   "source": [
    "* 1 - **Yes**\n",
    "* 2 - **No**"
   ]
  },
  {
   "cell_type": "markdown",
   "id": "a1f698bd",
   "metadata": {},
   "source": [
    "##### 3. US column transformation :"
   ]
  },
  {
   "cell_type": "code",
   "execution_count": 30,
   "id": "045ffed6",
   "metadata": {},
   "outputs": [
    {
     "data": {
      "text/plain": [
       "array(['Yes', 'No'], dtype=object)"
      ]
     },
     "execution_count": 30,
     "metadata": {},
     "output_type": "execute_result"
    }
   ],
   "source": [
    "company_data['us'].unique()"
   ]
  },
  {
   "cell_type": "code",
   "execution_count": 31,
   "id": "4ed71637",
   "metadata": {},
   "outputs": [
    {
     "data": {
      "text/plain": [
       "array([1, 0])"
      ]
     },
     "execution_count": 31,
     "metadata": {},
     "output_type": "execute_result"
    }
   ],
   "source": [
    "company_data_copy['us'].unique()"
   ]
  },
  {
   "cell_type": "markdown",
   "id": "65369e76",
   "metadata": {},
   "source": [
    "* 1 - **Yes**\n",
    "* 2 - **No**"
   ]
  },
  {
   "cell_type": "markdown",
   "id": "62c281f2",
   "metadata": {},
   "source": [
    "##### 4. Target_sales transformation :"
   ]
  },
  {
   "cell_type": "code",
   "execution_count": 32,
   "id": "edfb03e0",
   "metadata": {},
   "outputs": [
    {
     "data": {
      "text/plain": [
       "array(['High', 'Low'], dtype=object)"
      ]
     },
     "execution_count": 32,
     "metadata": {},
     "output_type": "execute_result"
    }
   ],
   "source": [
    "company_data['target_sales'].unique()"
   ]
  },
  {
   "cell_type": "code",
   "execution_count": 33,
   "id": "7f895785",
   "metadata": {},
   "outputs": [
    {
     "data": {
      "text/plain": [
       "array([0, 1])"
      ]
     },
     "execution_count": 33,
     "metadata": {},
     "output_type": "execute_result"
    }
   ],
   "source": [
    "company_data_copy['target_sales'].unique()"
   ]
  },
  {
   "cell_type": "markdown",
   "id": "f0d4b016",
   "metadata": {},
   "source": [
    "* 0 - **High**\n",
    "* 1 - **Low** "
   ]
  },
  {
   "cell_type": "markdown",
   "id": "56e1dee3",
   "metadata": {},
   "source": [
    "### 5.2 Checking dataset after transformation :"
   ]
  },
  {
   "cell_type": "code",
   "execution_count": 36,
   "id": "58f56cc3",
   "metadata": {},
   "outputs": [
    {
     "data": {
      "text/plain": [
       "sales           float64\n",
       "comp_price        int64\n",
       "income            int64\n",
       "advertising       int64\n",
       "population        int64\n",
       "price             int64\n",
       "shelf_loc         int32\n",
       "age               int64\n",
       "education         int64\n",
       "urban             int32\n",
       "us                int32\n",
       "target_sales      int32\n",
       "dtype: object"
      ]
     },
     "execution_count": 36,
     "metadata": {},
     "output_type": "execute_result"
    }
   ],
   "source": [
    "company_data_copy.dtypes"
   ]
  },
  {
   "cell_type": "code",
   "execution_count": 37,
   "id": "e9f8c95b",
   "metadata": {},
   "outputs": [
    {
     "data": {
      "text/plain": [
       "sales           0\n",
       "comp_price      0\n",
       "income          0\n",
       "advertising     0\n",
       "population      0\n",
       "price           0\n",
       "shelf_loc       0\n",
       "age             0\n",
       "education       0\n",
       "urban           0\n",
       "us              0\n",
       "target_sales    0\n",
       "dtype: int64"
      ]
     },
     "execution_count": 37,
     "metadata": {},
     "output_type": "execute_result"
    }
   ],
   "source": [
    "company_data_copy.isna().sum()"
   ]
  },
  {
   "cell_type": "markdown",
   "id": "1f74e354",
   "metadata": {},
   "source": [
    "## 6. Model Building :"
   ]
  },
  {
   "cell_type": "code",
   "execution_count": 38,
   "id": "95800cd2",
   "metadata": {},
   "outputs": [],
   "source": [
    "del company_data_copy['sales']"
   ]
  },
  {
   "cell_type": "code",
   "execution_count": 40,
   "id": "4d634761",
   "metadata": {},
   "outputs": [],
   "source": [
    "X = company_data_copy.drop(labels= 'target_sales',axis=1)\n",
    "y = company_data_copy[['target_sales']]"
   ]
  },
  {
   "cell_type": "code",
   "execution_count": 44,
   "id": "6d5e3f70",
   "metadata": {},
   "outputs": [],
   "source": [
    "from sklearn.model_selection import train_test_split\n",
    "X_train, X_test, y_train, y_test = train_test_split(X,y,test_size=0.20,random_state=12,stratify=y)"
   ]
  },
  {
   "cell_type": "code",
   "execution_count": 45,
   "id": "a1edaa35",
   "metadata": {},
   "outputs": [
    {
     "data": {
      "text/plain": [
       "((320, 10), (320, 1))"
      ]
     },
     "execution_count": 45,
     "metadata": {},
     "output_type": "execute_result"
    }
   ],
   "source": [
    "X_train.shape, y_train.shape"
   ]
  },
  {
   "cell_type": "code",
   "execution_count": 46,
   "id": "89b51b03",
   "metadata": {},
   "outputs": [
    {
     "data": {
      "text/plain": [
       "((80, 10), (80, 1))"
      ]
     },
     "execution_count": 46,
     "metadata": {},
     "output_type": "execute_result"
    }
   ],
   "source": [
    "X_test.shape, y_test.shape"
   ]
  },
  {
   "cell_type": "markdown",
   "id": "62a9bc01",
   "metadata": {},
   "source": [
    "## 7. Model Training :"
   ]
  },
  {
   "cell_type": "code",
   "execution_count": 48,
   "id": "bfd426f6",
   "metadata": {
    "scrolled": true
   },
   "outputs": [
    {
     "data": {
      "text/plain": [
       "DecisionTreeClassifier()"
      ]
     },
     "execution_count": 48,
     "metadata": {},
     "output_type": "execute_result"
    }
   ],
   "source": [
    "from sklearn.tree import DecisionTreeClassifier\n",
    "dt_model_1 = DecisionTreeClassifier()\n",
    "dt_model_1.fit(X_train,y_train)"
   ]
  },
  {
   "cell_type": "markdown",
   "id": "190c8795",
   "metadata": {},
   "source": [
    "#### Plotting the Decision tree :"
   ]
  },
  {
   "cell_type": "code",
   "execution_count": 50,
   "id": "5c5ad45b",
   "metadata": {},
   "outputs": [
    {
     "data": {
      "image/png": "[encoded data removed]",
      "text/plain": [
       "<Figure size 1152x576 with 1 Axes>"
      ]
     },
     "metadata": {
      "needs_background": "light"
     },
     "output_type": "display_data"
    }
   ],
   "source": [
    "from sklearn.tree import plot_tree\n",
    "\n",
    "plt.figure(figsize=(16,8))\n",
    "plot_tree(dt_model_1,filled = True)\n",
    "plt.show()"
   ]
  },
  {
   "cell_type": "code",
   "execution_count": 53,
   "id": "4b425477",
   "metadata": {},
   "outputs": [
    {
     "data": {
      "text/plain": [
       "DecisionTreeClassifier(max_depth=3)"
      ]
     },
     "execution_count": 53,
     "metadata": {},
     "output_type": "execute_result"
    }
   ],
   "source": [
    "dt_model_2 = DecisionTreeClassifier(criterion='gini',splitter='best',max_depth=3)\n",
    "dt_model_2.fit(X_train,y_train)"
   ]
  },
  {
   "cell_type": "code",
   "execution_count": 54,
   "id": "eb16897d",
   "metadata": {},
   "outputs": [
    {
     "data": {
      "image/png": "[encoded data removed]",
      "text/plain": [
       "<Figure size 1152x576 with 1 Axes>"
      ]
     },
     "metadata": {
      "needs_background": "light"
     },
     "output_type": "display_data"
    }
   ],
   "source": [
    "plt.figure(figsize=(16,8))\n",
    "plot_tree(dt_model_2,filled = True)\n",
    "plt.show()"
   ]
  },
  {
   "cell_type": "code",
   "execution_count": 55,
   "id": "3df53210",
   "metadata": {},
   "outputs": [
    {
     "data": {
      "text/plain": [
       "DecisionTreeClassifier(criterion='entropy', max_depth=3)"
      ]
     },
     "execution_count": 55,
     "metadata": {},
     "output_type": "execute_result"
    }
   ],
   "source": [
    "dt_model_3 = DecisionTreeClassifier(criterion='entropy',splitter='best',max_depth=3)\n",
    "dt_model_3.fit(X_train,y_train)"
   ]
  },
  {
   "cell_type": "code",
   "execution_count": 56,
   "id": "998b21ba",
   "metadata": {},
   "outputs": [
    {
     "data": {
      "image/png": "[encoded data removed]",
      "text/plain": [
       "<Figure size 1152x576 with 1 Axes>"
      ]
     },
     "metadata": {
      "needs_background": "light"
     },
     "output_type": "display_data"
    }
   ],
   "source": [
    "plt.figure(figsize=(16,8))\n",
    "plot_tree(dt_model_3,filled = True)\n",
    "plt.show()"
   ]
  },
  {
   "cell_type": "code",
   "execution_count": 57,
   "id": "1dff8ff9",
   "metadata": {},
   "outputs": [
    {
     "data": {
      "text/plain": [
       "DecisionTreeClassifier(criterion='entropy', max_depth=3, splitter='random')"
      ]
     },
     "execution_count": 57,
     "metadata": {},
     "output_type": "execute_result"
    }
   ],
   "source": [
    "dt_model_4 = DecisionTreeClassifier(criterion='entropy',splitter='random',max_depth=3)\n",
    "dt_model_4.fit(X_train,y_train)"
   ]
  },
  {
   "cell_type": "code",
   "execution_count": 58,
   "id": "1abb86a7",
   "metadata": {},
   "outputs": [
    {
     "data": {
      "image/png": "[encoded data removed]",
      "text/plain": [
       "<Figure size 1152x576 with 1 Axes>"
      ]
     },
     "metadata": {
      "needs_background": "light"
     },
     "output_type": "display_data"
    }
   ],
   "source": [
    "plt.figure(figsize=(16,8))\n",
    "plot_tree(dt_model_4,filled = True)\n",
    "plt.show()"
   ]
  },
  {
   "cell_type": "code",
   "execution_count": 59,
   "id": "72f3adad",
   "metadata": {},
   "outputs": [
    {
     "data": {
      "text/plain": [
       "DecisionTreeClassifier(max_depth=3, splitter='random')"
      ]
     },
     "execution_count": 59,
     "metadata": {},
     "output_type": "execute_result"
    }
   ],
   "source": [
    "dt_model_5 = DecisionTreeClassifier(criterion='gini',splitter='random',max_depth=3)\n",
    "dt_model_5.fit(X_train,y_train)"
   ]
  },
  {
   "cell_type": "code",
   "execution_count": 60,
   "id": "c115721b",
   "metadata": {},
   "outputs": [
    {
     "data": {
      "image/png": "[encoded data removed]",
      "text/plain": [
       "<Figure size 1152x576 with 1 Axes>"
      ]
     },
     "metadata": {
      "needs_background": "light"
     },
     "output_type": "display_data"
    }
   ],
   "source": [
    "plt.figure(figsize=(16,8))\n",
    "plot_tree(dt_model_5,filled = True)\n",
    "plt.show()"
   ]
  },
  {
   "cell_type": "markdown",
   "id": "13eb2de6",
   "metadata": {},
   "source": [
    "## 8. Model Testing :"
   ]
  },
  {
   "cell_type": "code",
   "execution_count": 61,
   "id": "6efc768f",
   "metadata": {},
   "outputs": [],
   "source": [
    "# Training data :\n",
    "\n",
    "y_predict_train_1 = dt_model_1.predict(X_train)\n",
    "y_predict_train_2 = dt_model_2.predict(X_train)\n",
    "y_predict_train_3 = dt_model_3.predict(X_train)\n",
    "y_predict_train_4 = dt_model_4.predict(X_train)\n",
    "y_predict_train_5 = dt_model_5.predict(X_train)\n",
    "\n",
    "# Test data :\n",
    "\n",
    "y_predict_test_1 = dt_model_1.predict(X_test)\n",
    "y_predict_test_2 = dt_model_2.predict(X_test)\n",
    "y_predict_test_3 = dt_model_3.predict(X_test)\n",
    "y_predict_test_4 = dt_model_4.predict(X_test)\n",
    "y_predict_test_5 = dt_model_5.predict(X_test)"
   ]
  },
  {
   "cell_type": "markdown",
   "id": "6520e489",
   "metadata": {},
   "source": [
    "## 9. Model Evaluation :"
   ]
  },
  {
   "cell_type": "code",
   "execution_count": 62,
   "id": "0b9c06c6",
   "metadata": {},
   "outputs": [],
   "source": [
    "from sklearn.metrics import accuracy_score,precision_score,recall_score,classification_report,confusion_matrix"
   ]
  },
  {
   "cell_type": "markdown",
   "id": "08c65115",
   "metadata": {},
   "source": [
    "### 9.1 Training data :"
   ]
  },
  {
   "cell_type": "markdown",
   "id": "e9815ff6",
   "metadata": {},
   "source": [
    "#### Model - 1 :"
   ]
  },
  {
   "cell_type": "code",
   "execution_count": 63,
   "id": "17b9fff8",
   "metadata": {},
   "outputs": [
    {
     "name": "stdout",
     "output_type": "stream",
     "text": [
      "MODEL - 1\n",
      "-------------------------------\n",
      "Accuracy Score        : 1.0\n",
      "Precision Score       : 1.0\n",
      "Recall Score          : 1.0\n",
      "Confusion Matrix      :\n",
      " [[158   0]\n",
      " [  0 162]]\n",
      "Classification Report :\n",
      "               precision    recall  f1-score   support\n",
      "\n",
      "           0       1.00      1.00      1.00       158\n",
      "           1       1.00      1.00      1.00       162\n",
      "\n",
      "    accuracy                           1.00       320\n",
      "   macro avg       1.00      1.00      1.00       320\n",
      "weighted avg       1.00      1.00      1.00       320\n",
      "\n"
     ]
    }
   ],
   "source": [
    "print('MODEL - 1')\n",
    "print('-------------------------------')\n",
    "print('Accuracy Score        :',round(accuracy_score(y_train,y_predict_train_1),4))\n",
    "print('Precision Score       :',round(precision_score(y_train,y_predict_train_1),4))\n",
    "print('Recall Score          :',round(recall_score(y_train,y_predict_train_1),4))\n",
    "print('Confusion Matrix      :\\n',confusion_matrix(y_train,y_predict_train_1))\n",
    "print('Classification Report :\\n',classification_report(y_train,y_predict_train_1))"
   ]
  },
  {
   "cell_type": "markdown",
   "id": "cf7dcbf5",
   "metadata": {},
   "source": [
    "#### Model - 2 :"
   ]
  },
  {
   "cell_type": "code",
   "execution_count": 64,
   "id": "de79e121",
   "metadata": {},
   "outputs": [
    {
     "name": "stdout",
     "output_type": "stream",
     "text": [
      "MODEL - 2\n",
      "-------------------------------\n",
      "Accuracy Score        : 0.7469\n",
      "Precision Score       : 0.7015\n",
      "Recall Score          : 0.8704\n",
      "Confusion Matrix      :\n",
      " [[ 98  60]\n",
      " [ 21 141]]\n",
      "Classification Report :\n",
      "               precision    recall  f1-score   support\n",
      "\n",
      "           0       0.82      0.62      0.71       158\n",
      "           1       0.70      0.87      0.78       162\n",
      "\n",
      "    accuracy                           0.75       320\n",
      "   macro avg       0.76      0.75      0.74       320\n",
      "weighted avg       0.76      0.75      0.74       320\n",
      "\n"
     ]
    }
   ],
   "source": [
    "print('MODEL - 2')\n",
    "print('-------------------------------')\n",
    "print('Accuracy Score        :',round(accuracy_score(y_train,y_predict_train_2),4))\n",
    "print('Precision Score       :',round(precision_score(y_train,y_predict_train_2),4))\n",
    "print('Recall Score          :',round(recall_score(y_train,y_predict_train_2),4))\n",
    "print('Confusion Matrix      :\\n',confusion_matrix(y_train,y_predict_train_2))\n",
    "print('Classification Report :\\n',classification_report(y_train,y_predict_train_2))"
   ]
  },
  {
   "cell_type": "markdown",
   "id": "066748b0",
   "metadata": {},
   "source": [
    "#### Model - 3 :"
   ]
  },
  {
   "cell_type": "code",
   "execution_count": 65,
   "id": "abff9568",
   "metadata": {},
   "outputs": [
    {
     "name": "stdout",
     "output_type": "stream",
     "text": [
      "MODEL - 3\n",
      "-------------------------------\n",
      "Accuracy Score        : 0.7438\n",
      "Precision Score       : 0.7198\n",
      "Recall Score          : 0.8086\n",
      "Confusion Matrix      :\n",
      " [[107  51]\n",
      " [ 31 131]]\n",
      "Classification Report :\n",
      "               precision    recall  f1-score   support\n",
      "\n",
      "           0       0.78      0.68      0.72       158\n",
      "           1       0.72      0.81      0.76       162\n",
      "\n",
      "    accuracy                           0.74       320\n",
      "   macro avg       0.75      0.74      0.74       320\n",
      "weighted avg       0.75      0.74      0.74       320\n",
      "\n"
     ]
    }
   ],
   "source": [
    "print('MODEL - 3')\n",
    "print('-------------------------------')\n",
    "print('Accuracy Score        :',round(accuracy_score(y_train,y_predict_train_3),4))\n",
    "print('Precision Score       :',round(precision_score(y_train,y_predict_train_3),4))\n",
    "print('Recall Score          :',round(recall_score(y_train,y_predict_train_3),4))\n",
    "print('Confusion Matrix      :\\n',confusion_matrix(y_train,y_predict_train_3))\n",
    "print('Classification Report :\\n',classification_report(y_train,y_predict_train_3))"
   ]
  },
  {
   "cell_type": "markdown",
   "id": "330c3648",
   "metadata": {},
   "source": [
    "#### Model - 4 :"
   ]
  },
  {
   "cell_type": "code",
   "execution_count": 66,
   "id": "43859b47",
   "metadata": {},
   "outputs": [
    {
     "name": "stdout",
     "output_type": "stream",
     "text": [
      "MODEL - 4\n",
      "-------------------------------\n",
      "Accuracy Score        : 0.7469\n",
      "Precision Score       : 0.7098\n",
      "Recall Score          : 0.8457\n",
      "Confusion Matrix      :\n",
      " [[102  56]\n",
      " [ 25 137]]\n",
      "Classification Report :\n",
      "               precision    recall  f1-score   support\n",
      "\n",
      "           0       0.80      0.65      0.72       158\n",
      "           1       0.71      0.85      0.77       162\n",
      "\n",
      "    accuracy                           0.75       320\n",
      "   macro avg       0.76      0.75      0.74       320\n",
      "weighted avg       0.76      0.75      0.74       320\n",
      "\n"
     ]
    }
   ],
   "source": [
    "print('MODEL - 4')\n",
    "print('-------------------------------')\n",
    "print('Accuracy Score        :',round(accuracy_score(y_train,y_predict_train_4),4))\n",
    "print('Precision Score       :',round(precision_score(y_train,y_predict_train_4),4))\n",
    "print('Recall Score          :',round(recall_score(y_train,y_predict_train_4),4))\n",
    "print('Confusion Matrix      :\\n',confusion_matrix(y_train,y_predict_train_4))\n",
    "print('Classification Report :\\n',classification_report(y_train,y_predict_train_4))"
   ]
  },
  {
   "cell_type": "markdown",
   "id": "7d4fc954",
   "metadata": {},
   "source": [
    "#### Model - 5 :"
   ]
  },
  {
   "cell_type": "code",
   "execution_count": 67,
   "id": "37ab314e",
   "metadata": {},
   "outputs": [
    {
     "name": "stdout",
     "output_type": "stream",
     "text": [
      "MODEL - 5\n",
      "-------------------------------\n",
      "Accuracy Score        : 0.7156\n",
      "Precision Score       : 0.6621\n",
      "Recall Score          : 0.8951\n",
      "Confusion Matrix      :\n",
      " [[ 84  74]\n",
      " [ 17 145]]\n",
      "Classification Report :\n",
      "               precision    recall  f1-score   support\n",
      "\n",
      "           0       0.83      0.53      0.65       158\n",
      "           1       0.66      0.90      0.76       162\n",
      "\n",
      "    accuracy                           0.72       320\n",
      "   macro avg       0.75      0.71      0.70       320\n",
      "weighted avg       0.75      0.72      0.71       320\n",
      "\n"
     ]
    }
   ],
   "source": [
    "print('MODEL - 5')\n",
    "print('-------------------------------')\n",
    "print('Accuracy Score        :',round(accuracy_score(y_train,y_predict_train_5),4))\n",
    "print('Precision Score       :',round(precision_score(y_train,y_predict_train_5),4))\n",
    "print('Recall Score          :',round(recall_score(y_train,y_predict_train_5),4))\n",
    "print('Confusion Matrix      :\\n',confusion_matrix(y_train,y_predict_train_5))\n",
    "print('Classification Report :\\n',classification_report(y_train,y_predict_train_5))"
   ]
  },
  {
   "cell_type": "markdown",
   "id": "66d6e348",
   "metadata": {},
   "source": [
    "### 9.2 Test Data :"
   ]
  },
  {
   "cell_type": "markdown",
   "id": "16c1c643",
   "metadata": {},
   "source": [
    "#### Model - 1:"
   ]
  },
  {
   "cell_type": "code",
   "execution_count": 68,
   "id": "0c723dfc",
   "metadata": {},
   "outputs": [
    {
     "name": "stdout",
     "output_type": "stream",
     "text": [
      "MODEL - 1\n",
      "-------------------------------\n",
      "Accuracy Score        : 0.65\n",
      "Precision Score       : 0.6579\n",
      "Recall Score          : 0.625\n",
      "Confusion Matrix      :\n",
      " [[27 13]\n",
      " [15 25]]\n",
      "Classification Report :\n",
      "               precision    recall  f1-score   support\n",
      "\n",
      "           0       0.64      0.68      0.66        40\n",
      "           1       0.66      0.62      0.64        40\n",
      "\n",
      "    accuracy                           0.65        80\n",
      "   macro avg       0.65      0.65      0.65        80\n",
      "weighted avg       0.65      0.65      0.65        80\n",
      "\n"
     ]
    }
   ],
   "source": [
    "print('MODEL - 1')\n",
    "print('-------------------------------')\n",
    "print('Accuracy Score        :',round(accuracy_score(y_test,y_predict_test_1),4))\n",
    "print('Precision Score       :',round(precision_score(y_test,y_predict_test_1),4))\n",
    "print('Recall Score          :',round(recall_score(y_test,y_predict_test_1),4))\n",
    "print('Confusion Matrix      :\\n',confusion_matrix(y_test,y_predict_test_1))\n",
    "print('Classification Report :\\n',classification_report(y_test,y_predict_test_1))"
   ]
  },
  {
   "cell_type": "markdown",
   "id": "3bbcde5f",
   "metadata": {},
   "source": [
    "#### Model - 2 :"
   ]
  },
  {
   "cell_type": "code",
   "execution_count": 69,
   "id": "aeebb68a",
   "metadata": {},
   "outputs": [
    {
     "name": "stdout",
     "output_type": "stream",
     "text": [
      "MODEL - 2\n",
      "-------------------------------\n",
      "Accuracy Score        : 0.7\n",
      "Precision Score       : 0.6667\n",
      "Recall Score          : 0.8\n",
      "Confusion Matrix      :\n",
      " [[24 16]\n",
      " [ 8 32]]\n",
      "Classification Report :\n",
      "               precision    recall  f1-score   support\n",
      "\n",
      "           0       0.75      0.60      0.67        40\n",
      "           1       0.67      0.80      0.73        40\n",
      "\n",
      "    accuracy                           0.70        80\n",
      "   macro avg       0.71      0.70      0.70        80\n",
      "weighted avg       0.71      0.70      0.70        80\n",
      "\n"
     ]
    }
   ],
   "source": [
    "print('MODEL - 2')\n",
    "print('-------------------------------')\n",
    "print('Accuracy Score        :',round(accuracy_score(y_test,y_predict_test_2),4))\n",
    "print('Precision Score       :',round(precision_score(y_test,y_predict_test_2),4))\n",
    "print('Recall Score          :',round(recall_score(y_test,y_predict_test_2),4))\n",
    "print('Confusion Matrix      :\\n',confusion_matrix(y_test,y_predict_test_2))\n",
    "print('Classification Report :\\n',classification_report(y_test,y_predict_test_2))"
   ]
  },
  {
   "cell_type": "markdown",
   "id": "f60f0bd0",
   "metadata": {},
   "source": [
    "#### Model - 3 :"
   ]
  },
  {
   "cell_type": "code",
   "execution_count": 70,
   "id": "0b8f8489",
   "metadata": {},
   "outputs": [
    {
     "name": "stdout",
     "output_type": "stream",
     "text": [
      "MODEL - 3\n",
      "-------------------------------\n",
      "Accuracy Score        : 0.7\n",
      "Precision Score       : 0.6905\n",
      "Recall Score          : 0.725\n",
      "Confusion Matrix      :\n",
      " [[27 13]\n",
      " [11 29]]\n",
      "Classification Report :\n",
      "               precision    recall  f1-score   support\n",
      "\n",
      "           0       0.71      0.68      0.69        40\n",
      "           1       0.69      0.72      0.71        40\n",
      "\n",
      "    accuracy                           0.70        80\n",
      "   macro avg       0.70      0.70      0.70        80\n",
      "weighted avg       0.70      0.70      0.70        80\n",
      "\n"
     ]
    }
   ],
   "source": [
    "print('MODEL - 3')\n",
    "print('-------------------------------')\n",
    "print('Accuracy Score        :',round(accuracy_score(y_test,y_predict_test_3),4))\n",
    "print('Precision Score       :',round(precision_score(y_test,y_predict_test_3),4))\n",
    "print('Recall Score          :',round(recall_score(y_test,y_predict_test_3),4))\n",
    "print('Confusion Matrix      :\\n',confusion_matrix(y_test,y_predict_test_3))\n",
    "print('Classification Report :\\n',classification_report(y_test,y_predict_test_3))"
   ]
  },
  {
   "cell_type": "markdown",
   "id": "a59ae9d1",
   "metadata": {},
   "source": [
    "#### Model - 4 :"
   ]
  },
  {
   "cell_type": "code",
   "execution_count": 71,
   "id": "05f37c9c",
   "metadata": {},
   "outputs": [
    {
     "name": "stdout",
     "output_type": "stream",
     "text": [
      "MODEL - 4\n",
      "-------------------------------\n",
      "Accuracy Score        : 0.65\n",
      "Precision Score       : 0.625\n",
      "Recall Score          : 0.75\n",
      "Confusion Matrix      :\n",
      " [[22 18]\n",
      " [10 30]]\n",
      "Classification Report :\n",
      "               precision    recall  f1-score   support\n",
      "\n",
      "           0       0.69      0.55      0.61        40\n",
      "           1       0.62      0.75      0.68        40\n",
      "\n",
      "    accuracy                           0.65        80\n",
      "   macro avg       0.66      0.65      0.65        80\n",
      "weighted avg       0.66      0.65      0.65        80\n",
      "\n"
     ]
    }
   ],
   "source": [
    "print('MODEL - 4')\n",
    "print('-------------------------------')\n",
    "print('Accuracy Score        :',round(accuracy_score(y_test,y_predict_test_4),4))\n",
    "print('Precision Score       :',round(precision_score(y_test,y_predict_test_4),4))\n",
    "print('Recall Score          :',round(recall_score(y_test,y_predict_test_4),4))\n",
    "print('Confusion Matrix      :\\n',confusion_matrix(y_test,y_predict_test_4))\n",
    "print('Classification Report :\\n',classification_report(y_test,y_predict_test_4))"
   ]
  },
  {
   "cell_type": "markdown",
   "id": "f0aaffe7",
   "metadata": {},
   "source": [
    "#### Model - 5 :"
   ]
  },
  {
   "cell_type": "code",
   "execution_count": 72,
   "id": "2e1ed9c7",
   "metadata": {},
   "outputs": [
    {
     "name": "stdout",
     "output_type": "stream",
     "text": [
      "MODEL - 5\n",
      "-------------------------------\n",
      "Accuracy Score        : 0.65\n",
      "Precision Score       : 0.6111\n",
      "Recall Score          : 0.825\n",
      "Confusion Matrix      :\n",
      " [[19 21]\n",
      " [ 7 33]]\n",
      "Classification Report :\n",
      "               precision    recall  f1-score   support\n",
      "\n",
      "           0       0.73      0.47      0.58        40\n",
      "           1       0.61      0.82      0.70        40\n",
      "\n",
      "    accuracy                           0.65        80\n",
      "   macro avg       0.67      0.65      0.64        80\n",
      "weighted avg       0.67      0.65      0.64        80\n",
      "\n"
     ]
    }
   ],
   "source": [
    "print('MODEL - 5')\n",
    "print('-------------------------------')\n",
    "print('Accuracy Score        :',round(accuracy_score(y_test,y_predict_test_5),4))\n",
    "print('Precision Score       :',round(precision_score(y_test,y_predict_test_5),4))\n",
    "print('Recall Score          :',round(recall_score(y_test,y_predict_test_5),4))\n",
    "print('Confusion Matrix      :\\n',confusion_matrix(y_test,y_predict_test_5))\n",
    "print('Classification Report :\\n',classification_report(y_test,y_predict_test_5))"
   ]
  },
  {
   "cell_type": "code",
   "execution_count": 98,
   "id": "bd78c776",
   "metadata": {},
   "outputs": [
    {
     "data": {
      "text/html": [
       "<div>\n",
       "<style scoped>\n",
       "    .dataframe tbody tr th:only-of-type {\n",
       "        vertical-align: middle;\n",
       "    }\n",
       "\n",
       "    .dataframe tbody tr th {\n",
       "        vertical-align: top;\n",
       "    }\n",
       "\n",
       "    .dataframe thead th {\n",
       "        text-align: right;\n",
       "    }\n",
       "</style>\n",
       "<table border=\"1\" class=\"dataframe\">\n",
       "  <thead>\n",
       "    <tr style=\"text-align: right;\">\n",
       "      <th></th>\n",
       "      <th>Train_Models</th>\n",
       "      <th>Train_Accuracy_Scores</th>\n",
       "      <th>Test_Accuracy_Scores</th>\n",
       "      <th>Train_Precision_Scores</th>\n",
       "      <th>Test_Precision_Scores</th>\n",
       "      <th>Train_Recall_Scores</th>\n",
       "      <th>Test_Recall_Scores</th>\n",
       "    </tr>\n",
       "  </thead>\n",
       "  <tbody>\n",
       "    <tr>\n",
       "      <th>0</th>\n",
       "      <td>Model_1</td>\n",
       "      <td>1.0000</td>\n",
       "      <td>0.65</td>\n",
       "      <td>1.0000</td>\n",
       "      <td>0.6579</td>\n",
       "      <td>1.0000</td>\n",
       "      <td>0.625</td>\n",
       "    </tr>\n",
       "    <tr>\n",
       "      <th>1</th>\n",
       "      <td>Model_2</td>\n",
       "      <td>0.7469</td>\n",
       "      <td>0.70</td>\n",
       "      <td>0.7015</td>\n",
       "      <td>0.6667</td>\n",
       "      <td>0.8704</td>\n",
       "      <td>0.800</td>\n",
       "    </tr>\n",
       "    <tr>\n",
       "      <th>2</th>\n",
       "      <td>Model_3</td>\n",
       "      <td>0.7438</td>\n",
       "      <td>0.70</td>\n",
       "      <td>0.7198</td>\n",
       "      <td>0.6905</td>\n",
       "      <td>0.8086</td>\n",
       "      <td>0.725</td>\n",
       "    </tr>\n",
       "    <tr>\n",
       "      <th>3</th>\n",
       "      <td>Model_4</td>\n",
       "      <td>0.7469</td>\n",
       "      <td>0.65</td>\n",
       "      <td>0.7098</td>\n",
       "      <td>0.6250</td>\n",
       "      <td>0.8457</td>\n",
       "      <td>0.750</td>\n",
       "    </tr>\n",
       "    <tr>\n",
       "      <th>4</th>\n",
       "      <td>Model_5</td>\n",
       "      <td>0.7156</td>\n",
       "      <td>0.65</td>\n",
       "      <td>0.6621</td>\n",
       "      <td>0.6111</td>\n",
       "      <td>0.8951</td>\n",
       "      <td>0.825</td>\n",
       "    </tr>\n",
       "  </tbody>\n",
       "</table>\n",
       "</div>"
      ],
      "text/plain": [
       "  Train_Models  Train_Accuracy_Scores  Test_Accuracy_Scores  \\\n",
       "0      Model_1                 1.0000                  0.65   \n",
       "1      Model_2                 0.7469                  0.70   \n",
       "2      Model_3                 0.7438                  0.70   \n",
       "3      Model_4                 0.7469                  0.65   \n",
       "4      Model_5                 0.7156                  0.65   \n",
       "\n",
       "   Train_Precision_Scores  Test_Precision_Scores  Train_Recall_Scores  \\\n",
       "0                  1.0000                 0.6579               1.0000   \n",
       "1                  0.7015                 0.6667               0.8704   \n",
       "2                  0.7198                 0.6905               0.8086   \n",
       "3                  0.7098                 0.6250               0.8457   \n",
       "4                  0.6621                 0.6111               0.8951   \n",
       "\n",
       "   Test_Recall_Scores  \n",
       "0               0.625  \n",
       "1               0.800  \n",
       "2               0.725  \n",
       "3               0.750  \n",
       "4               0.825  "
      ]
     },
     "execution_count": 98,
     "metadata": {},
     "output_type": "execute_result"
    }
   ],
   "source": [
    "train_models_values = {'Train_Models':['Model_1','Model_2','Model_3','Model_4','Model_5'],\n",
    "                       'Train_Accuracy_Scores':[round(accuracy_score(y_train,y_predict_train_1),4),\n",
    "                                          round(accuracy_score(y_train,y_predict_train_2),4),\n",
    "                                          round(accuracy_score(y_train,y_predict_train_3),4),\n",
    "                                          round(accuracy_score(y_train,y_predict_train_4),4),\n",
    "                                          round(accuracy_score(y_train,y_predict_train_5),4)],\n",
    "                       'Test_Accuracy_Scores':[round(accuracy_score(y_test,y_predict_test_1),4),\n",
    "                                          round(accuracy_score(y_test,y_predict_test_2),4),\n",
    "                                          round(accuracy_score(y_test,y_predict_test_3),4),\n",
    "                                          round(accuracy_score(y_test,y_predict_test_4),4),\n",
    "                                          round(accuracy_score(y_test,y_predict_test_5),4)],\n",
    "                      'Train_Precision_Scores':[round(precision_score(y_train,y_predict_train_1),4),\n",
    "                                          round(precision_score(y_train,y_predict_train_2),4),\n",
    "                                          round(precision_score(y_train,y_predict_train_3),4),\n",
    "                                          round(precision_score(y_train,y_predict_train_4),4),\n",
    "                                          round(precision_score(y_train,y_predict_train_5),4)],\n",
    "                       'Test_Precision_Scores':[round(precision_score(y_test,y_predict_test_1),4),\n",
    "                                             round(precision_score(y_test,y_predict_test_2),4),\n",
    "                                             round(precision_score(y_test,y_predict_test_3),4),\n",
    "                                             round(precision_score(y_test,y_predict_test_4),4),\n",
    "                                             round(precision_score(y_test,y_predict_test_5),4)],\n",
    "                      'Train_Recall_Scores':[round(recall_score(y_train,y_predict_train_1),4),\n",
    "                                             round(recall_score(y_train,y_predict_train_2),4),\n",
    "                                             round(recall_score(y_train,y_predict_train_3),4),\n",
    "                                             round(recall_score(y_train,y_predict_train_4),4),\n",
    "                                             round(recall_score(y_train,y_predict_train_5),4)],\n",
    "                      'Test_Recall_Scores':[round(recall_score(y_test,y_predict_test_1),4),\n",
    "                                            round(recall_score(y_test,y_predict_test_2),4),\n",
    "                                            round(recall_score(y_test,y_predict_test_3),4),\n",
    "                                            round(recall_score(y_test,y_predict_test_4),4),\n",
    "                                            round(recall_score(y_test,y_predict_test_5),4)]}\n",
    "train_models_values_df = pd.DataFrame(train_models_values)\n",
    "train_models_values_df"
   ]
  },
  {
   "cell_type": "markdown",
   "id": "96eaae7a",
   "metadata": {},
   "source": [
    "### -------------------------------------------------------------------------------------------------------------------------------------------------------"
   ]
  },
  {
   "cell_type": "markdown",
   "id": "82633d32",
   "metadata": {},
   "source": [
    "### Improving the model accuracy:"
   ]
  },
  {
   "cell_type": "markdown",
   "id": "5ece7bde",
   "metadata": {},
   "source": [
    "#####  Improving Models Accuracy using Ada Boost Classifier :"
   ]
  },
  {
   "cell_type": "markdown",
   "id": "4b957206",
   "metadata": {},
   "source": [
    "###### Improvement of Model-1 "
   ]
  },
  {
   "cell_type": "code",
   "execution_count": 109,
   "id": "d6050c40",
   "metadata": {},
   "outputs": [],
   "source": [
    "from sklearn.ensemble import AdaBoostClassifier"
   ]
  },
  {
   "cell_type": "code",
   "execution_count": 110,
   "id": "21697759",
   "metadata": {},
   "outputs": [
    {
     "data": {
      "text/plain": [
       "AdaBoostClassifier(base_estimator=DecisionTreeClassifier())"
      ]
     },
     "execution_count": 110,
     "metadata": {},
     "output_type": "execute_result"
    }
   ],
   "source": [
    "dt_model_6 = AdaBoostClassifier(base_estimator= DecisionTreeClassifier())\n",
    "dt_model_6.fit(X_train,y_train)"
   ]
  },
  {
   "cell_type": "code",
   "execution_count": 108,
   "id": "dd3b50f4",
   "metadata": {},
   "outputs": [],
   "source": [
    "y_predict_train_6 = dt_model_6.predict(X_train)\n",
    "y_predict_test_6  = dt_model_6.predict(X_test)"
   ]
  },
  {
   "cell_type": "code",
   "execution_count": 107,
   "id": "49ca3d5b",
   "metadata": {},
   "outputs": [
    {
     "name": "stdout",
     "output_type": "stream",
     "text": [
      "MODEL - 6\n",
      "-------------------------------\n",
      "Accuracy Score        : 0.675\n",
      "Precision Score       : 0.675\n",
      "Recall Score          : 0.675\n",
      "Confusion Matrix      :\n",
      " [[27 13]\n",
      " [13 27]]\n",
      "Classification Report :\n",
      "               precision    recall  f1-score   support\n",
      "\n",
      "           0       0.68      0.68      0.68        40\n",
      "           1       0.68      0.68      0.68        40\n",
      "\n",
      "    accuracy                           0.68        80\n",
      "   macro avg       0.68      0.68      0.68        80\n",
      "weighted avg       0.68      0.68      0.68        80\n",
      "\n"
     ]
    }
   ],
   "source": [
    "print('MODEL - 6')\n",
    "print('-------------------------------')\n",
    "print('Accuracy Score        :',round(accuracy_score(y_test,y_predict_test_6),4))\n",
    "print('Precision Score       :',round(precision_score(y_test,y_predict_test_6),4))\n",
    "print('Recall Score          :',round(recall_score(y_test,y_predict_test_6),4))\n",
    "print('Confusion Matrix      :\\n',confusion_matrix(y_test,y_predict_test_6))\n",
    "print('Classification Report :\\n',classification_report(y_test,y_predict_test_6))"
   ]
  },
  {
   "cell_type": "markdown",
   "id": "157a944b",
   "metadata": {},
   "source": [
    "###### OBSERVATION :- \n",
    "\n",
    " * Before Improving :- \n",
    "     * Accuracy Score        : 0.65\n",
    "     * Precision Score       : 0.6579\n",
    "     * Recall Score          : 0.625\n",
    "     \n",
    " * After Improving:-\n",
    "    * Accuracy Score        : 0.675\n",
    "    * Precision Score       : 0.675\n",
    "    * Recall Score          : 0.675"
   ]
  },
  {
   "cell_type": "markdown",
   "id": "f4fe611e",
   "metadata": {},
   "source": [
    "##### Improving Model-2"
   ]
  },
  {
   "cell_type": "code",
   "execution_count": 111,
   "id": "4e518854",
   "metadata": {},
   "outputs": [
    {
     "data": {
      "text/plain": [
       "AdaBoostClassifier(base_estimator=DecisionTreeClassifier(max_depth=3))"
      ]
     },
     "execution_count": 111,
     "metadata": {},
     "output_type": "execute_result"
    }
   ],
   "source": [
    "dt_model_7 = AdaBoostClassifier(base_estimator= DecisionTreeClassifier(criterion='gini',splitter='best',max_depth=3))\n",
    "dt_model_7.fit(X_train,y_train)"
   ]
  },
  {
   "cell_type": "code",
   "execution_count": 117,
   "id": "4919428f",
   "metadata": {},
   "outputs": [],
   "source": [
    "y_predict_train_7 = dt_model_7.predict(X_train)\n",
    "y_predict_test_7  = dt_model_7.predict(X_test)"
   ]
  },
  {
   "cell_type": "markdown",
   "id": "7e6e65ab",
   "metadata": {},
   "source": [
    "###### Train Data Observation of model-7 "
   ]
  },
  {
   "cell_type": "code",
   "execution_count": 113,
   "id": "26890a0b",
   "metadata": {
    "scrolled": true
   },
   "outputs": [
    {
     "name": "stdout",
     "output_type": "stream",
     "text": [
      "MODEL - 7\n",
      "-------------------------------\n",
      "Accuracy Score        : 1.0\n",
      "Precision Score       : 1.0\n",
      "Recall Score          : 1.0\n",
      "Confusion Matrix      :\n",
      " [[158   0]\n",
      " [  0 162]]\n",
      "Classification Report :\n",
      "               precision    recall  f1-score   support\n",
      "\n",
      "           0       1.00      1.00      1.00       158\n",
      "           1       1.00      1.00      1.00       162\n",
      "\n",
      "    accuracy                           1.00       320\n",
      "   macro avg       1.00      1.00      1.00       320\n",
      "weighted avg       1.00      1.00      1.00       320\n",
      "\n"
     ]
    }
   ],
   "source": [
    "print('MODEL - 7')\n",
    "print('-------------------------------')\n",
    "print('Accuracy Score        :',round(accuracy_score(y_train,y_predict_train_7),4))\n",
    "print('Precision Score       :',round(precision_score(y_train,y_predict_train_7),4))\n",
    "print('Recall Score          :',round(recall_score(y_train,y_predict_train_7),4))\n",
    "print('Confusion Matrix      :\\n',confusion_matrix(y_train,y_predict_train_7))\n",
    "print('Classification Report :\\n',classification_report(y_train,y_predict_train_7))"
   ]
  },
  {
   "cell_type": "markdown",
   "id": "e5cd7010",
   "metadata": {},
   "source": [
    "###### OBSERVATION :- Train data model-2 before improvement :\n",
    "* Accuracy Score        : 0.7469\n",
    "* Precision Score       : 0.7015\n",
    "* Recall Score          : 0.8704\n",
    "\n",
    "###### Train data after improvement :\n",
    "* Accuracy Score        : 1.0\n",
    "* Precision Score       : 1.0\n",
    "* Recall Score          : 1.0"
   ]
  },
  {
   "cell_type": "markdown",
   "id": "9ce5d458",
   "metadata": {},
   "source": [
    "##### Test data observation  of model -7 :"
   ]
  },
  {
   "cell_type": "code",
   "execution_count": 114,
   "id": "15326bd1",
   "metadata": {},
   "outputs": [
    {
     "name": "stdout",
     "output_type": "stream",
     "text": [
      "MODEL - 7\n",
      "-------------------------------\n",
      "Accuracy Score        : 0.7125\n",
      "Precision Score       : 0.6977\n",
      "Recall Score          : 0.75\n",
      "Confusion Matrix      :\n",
      " [[27 13]\n",
      " [10 30]]\n",
      "Classification Report :\n",
      "               precision    recall  f1-score   support\n",
      "\n",
      "           0       0.73      0.68      0.70        40\n",
      "           1       0.70      0.75      0.72        40\n",
      "\n",
      "    accuracy                           0.71        80\n",
      "   macro avg       0.71      0.71      0.71        80\n",
      "weighted avg       0.71      0.71      0.71        80\n",
      "\n"
     ]
    }
   ],
   "source": [
    "print('MODEL - 7')\n",
    "print('-------------------------------')\n",
    "print('Accuracy Score        :',round(accuracy_score(y_test,y_predict_test_7),4))\n",
    "print('Precision Score       :',round(precision_score(y_test,y_predict_test_7),4))\n",
    "print('Recall Score          :',round(recall_score(y_test,y_predict_test_7),4))\n",
    "print('Confusion Matrix      :\\n',confusion_matrix(y_test,y_predict_test_7))\n",
    "print('Classification Report :\\n',classification_report(y_test,y_predict_test_7))"
   ]
  },
  {
   "cell_type": "markdown",
   "id": "df5098c5",
   "metadata": {},
   "source": [
    "###### OBSERVATION :- The test data observation of model-2 before improvement :\n",
    "* Accuracy Score        : 0.7\n",
    "* Precision Score       : 0.6667\n",
    "* Recall Score          : 0.8\n",
    "\n",
    "###### The test data performance after improvement :\n",
    "* Accuracy Score        : 0.7125\n",
    "* Precision Score       : 0.6977\n",
    "* Recall Score          : 0.75"
   ]
  },
  {
   "cell_type": "code",
   "execution_count": 115,
   "id": "a2a1483b",
   "metadata": {},
   "outputs": [],
   "source": [
    "from sklearn.ensemble import BaggingClassifier"
   ]
  },
  {
   "cell_type": "markdown",
   "id": "32213efe",
   "metadata": {},
   "source": [
    "##### Improving Model-3 using bagging classifier:"
   ]
  },
  {
   "cell_type": "code",
   "execution_count": 116,
   "id": "b37c2634",
   "metadata": {},
   "outputs": [
    {
     "data": {
      "text/plain": [
       "BaggingClassifier(base_estimator=DecisionTreeClassifier(criterion='entropy',\n",
       "                                                        max_depth=3))"
      ]
     },
     "execution_count": 116,
     "metadata": {},
     "output_type": "execute_result"
    }
   ],
   "source": [
    "dt_model_8 = BaggingClassifier(base_estimator= DecisionTreeClassifier(criterion='entropy',splitter='best',max_depth=3))\n",
    "dt_model_8.fit(X_train,y_train)"
   ]
  },
  {
   "cell_type": "code",
   "execution_count": 118,
   "id": "798f2269",
   "metadata": {},
   "outputs": [],
   "source": [
    "y_predict_train_8 = dt_model_8.predict(X_train)\n",
    "y_predict_test_8  = dt_model_8.predict(X_test)"
   ]
  },
  {
   "cell_type": "markdown",
   "id": "93943b4b",
   "metadata": {},
   "source": [
    "###### Train data observation Model-8"
   ]
  },
  {
   "cell_type": "code",
   "execution_count": 119,
   "id": "fcc96899",
   "metadata": {},
   "outputs": [
    {
     "name": "stdout",
     "output_type": "stream",
     "text": [
      "MODEL - 8\n",
      "-------------------------------\n",
      "Accuracy Score        : 0.8219\n",
      "Precision Score       : 0.7966\n",
      "Recall Score          : 0.8704\n",
      "Confusion Matrix      :\n",
      " [[122  36]\n",
      " [ 21 141]]\n",
      "Classification Report :\n",
      "               precision    recall  f1-score   support\n",
      "\n",
      "           0       0.85      0.77      0.81       158\n",
      "           1       0.80      0.87      0.83       162\n",
      "\n",
      "    accuracy                           0.82       320\n",
      "   macro avg       0.82      0.82      0.82       320\n",
      "weighted avg       0.82      0.82      0.82       320\n",
      "\n"
     ]
    }
   ],
   "source": [
    "print('MODEL - 8')\n",
    "print('-------------------------------')\n",
    "print('Accuracy Score        :',round(accuracy_score(y_train,y_predict_train_8),4))\n",
    "print('Precision Score       :',round(precision_score(y_train,y_predict_train_8),4))\n",
    "print('Recall Score          :',round(recall_score(y_train,y_predict_train_8),4))\n",
    "print('Confusion Matrix      :\\n',confusion_matrix(y_train,y_predict_train_8))\n",
    "print('Classification Report :\\n',classification_report(y_train,y_predict_train_8))"
   ]
  },
  {
   "cell_type": "markdown",
   "id": "3418bef5",
   "metadata": {},
   "source": [
    "##### OBSERVATION :- The train data of Model-3 before improvement performed as follows :\n",
    "* Accuracy Score        : 0.7438\n",
    "* Precision Score       : 0.7198\n",
    "* Recall Score          : 0.8086\n",
    "\n",
    "#### The train data performance of model-3 after improving :\n",
    "* Accuracy Score        : 0.8219\n",
    "* Precision Score       : 0.7966\n",
    "* Recall Score          : 0.8704"
   ]
  },
  {
   "cell_type": "markdown",
   "id": "78e27e7e",
   "metadata": {},
   "source": [
    "##### Test data observation of model-8 :"
   ]
  },
  {
   "cell_type": "code",
   "execution_count": 120,
   "id": "1f3bf1d4",
   "metadata": {},
   "outputs": [
    {
     "name": "stdout",
     "output_type": "stream",
     "text": [
      "MODEL - 8\n",
      "-------------------------------\n",
      "Accuracy Score        : 0.775\n",
      "Precision Score       : 0.775\n",
      "Recall Score          : 0.775\n",
      "Confusion Matrix      :\n",
      " [[31  9]\n",
      " [ 9 31]]\n",
      "Classification Report :\n",
      "               precision    recall  f1-score   support\n",
      "\n",
      "           0       0.78      0.78      0.78        40\n",
      "           1       0.78      0.78      0.78        40\n",
      "\n",
      "    accuracy                           0.78        80\n",
      "   macro avg       0.78      0.78      0.78        80\n",
      "weighted avg       0.78      0.78      0.78        80\n",
      "\n"
     ]
    }
   ],
   "source": [
    "print('MODEL - 8')\n",
    "print('-------------------------------')\n",
    "print('Accuracy Score        :',round(accuracy_score(y_test,y_predict_test_8),4))\n",
    "print('Precision Score       :',round(precision_score(y_test,y_predict_test_8),4))\n",
    "print('Recall Score          :',round(recall_score(y_test,y_predict_test_8),4))\n",
    "print('Confusion Matrix      :\\n',confusion_matrix(y_test,y_predict_test_8))\n",
    "print('Classification Report :\\n',classification_report(y_test,y_predict_test_8))"
   ]
  },
  {
   "cell_type": "markdown",
   "id": "9f1be052",
   "metadata": {},
   "source": [
    "##### OBSERVATION :- The model-3 test performance before improvement :-\n",
    "* Accuracy Score        : 0.7\n",
    "* Precision Score       : 0.6905\n",
    "* Recall Score          : 0.725\n",
    "\n",
    "##### The test model-3 performance after improvement:-\n",
    "* Accuracy Score        : 0.775\n",
    "* Precision Score       : 0.775\n",
    "* Recall Score          : 0.775"
   ]
  },
  {
   "cell_type": "markdown",
   "id": "fbb33385",
   "metadata": {},
   "source": [
    "### Hence we can see that models are getting improved their test performance when the ensemble techniques are applied to the decision tree.\n",
    "\n",
    "### Some ensemble techniques are : Ada Boost Classifier,Bagging Classifier,Extra tree classifier, Random Forest classifier... .etc."
   ]
  },
  {
   "cell_type": "code",
   "execution_count": null,
   "id": "868d0bf9",
   "metadata": {},
   "outputs": [],
   "source": []
  }
 ],
 "metadata": {
  "kernelspec": {
   "display_name": "Python 3",
   "language": "python",
   "name": "python3"
  },
  "language_info": {
   "codemirror_mode": {
    "name": "ipython",
    "version": 3
   },
   "file_extension": ".py",
   "mimetype": "text/x-python",
   "name": "python",
   "nbconvert_exporter": "python",
   "pygments_lexer": "ipython3",
   "version": "3.8.8"
  }
 },
 "nbformat": 4,
 "nbformat_minor": 5
}
